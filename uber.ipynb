{
 "cells": [
  {
   "cell_type": "markdown",
   "metadata": {},
   "source": [
    "## Import Libraries"
   ]
  },
  {
   "cell_type": "code",
   "execution_count": 4,
   "metadata": {},
   "outputs": [],
   "source": [
    "import pandas as pd\n",
    "import numpy as np\n",
    "import matplotlib.pyplot as plt\n",
    "import seaborn as sns"
   ]
  },
  {
   "cell_type": "markdown",
   "metadata": {},
   "source": [
    "## Import Dataset"
   ]
  },
  {
   "cell_type": "code",
   "execution_count": 53,
   "metadata": {},
   "outputs": [
    {
     "data": {
      "text/html": [
       "<div>\n",
       "<style scoped>\n",
       "    .dataframe tbody tr th:only-of-type {\n",
       "        vertical-align: middle;\n",
       "    }\n",
       "\n",
       "    .dataframe tbody tr th {\n",
       "        vertical-align: top;\n",
       "    }\n",
       "\n",
       "    .dataframe thead th {\n",
       "        text-align: right;\n",
       "    }\n",
       "</style>\n",
       "<table border=\"1\" class=\"dataframe\">\n",
       "  <thead>\n",
       "    <tr style=\"text-align: right;\">\n",
       "      <th></th>\n",
       "      <th>START_DATE</th>\n",
       "      <th>END_DATE</th>\n",
       "      <th>CATEGORY</th>\n",
       "      <th>START</th>\n",
       "      <th>STOP</th>\n",
       "      <th>MILES</th>\n",
       "      <th>PURPOSE</th>\n",
       "    </tr>\n",
       "  </thead>\n",
       "  <tbody>\n",
       "    <tr>\n",
       "      <th>0</th>\n",
       "      <td>01-01-2016 21:11</td>\n",
       "      <td>01-01-2016 21:17</td>\n",
       "      <td>Business</td>\n",
       "      <td>Fort Pierce</td>\n",
       "      <td>Fort Pierce</td>\n",
       "      <td>5.1</td>\n",
       "      <td>Meal/Entertain</td>\n",
       "    </tr>\n",
       "    <tr>\n",
       "      <th>1</th>\n",
       "      <td>01-02-2016 01:25</td>\n",
       "      <td>01-02-2016 01:37</td>\n",
       "      <td>Business</td>\n",
       "      <td>Fort Pierce</td>\n",
       "      <td>Fort Pierce</td>\n",
       "      <td>5.0</td>\n",
       "      <td>NaN</td>\n",
       "    </tr>\n",
       "    <tr>\n",
       "      <th>2</th>\n",
       "      <td>01-02-2016 20:25</td>\n",
       "      <td>01-02-2016 20:38</td>\n",
       "      <td>Business</td>\n",
       "      <td>Fort Pierce</td>\n",
       "      <td>Fort Pierce</td>\n",
       "      <td>4.8</td>\n",
       "      <td>Errand/Supplies</td>\n",
       "    </tr>\n",
       "    <tr>\n",
       "      <th>3</th>\n",
       "      <td>01-05-2016 17:31</td>\n",
       "      <td>01-05-2016 17:45</td>\n",
       "      <td>Business</td>\n",
       "      <td>Fort Pierce</td>\n",
       "      <td>Fort Pierce</td>\n",
       "      <td>4.7</td>\n",
       "      <td>Meeting</td>\n",
       "    </tr>\n",
       "    <tr>\n",
       "      <th>4</th>\n",
       "      <td>01-06-2016 14:42</td>\n",
       "      <td>01-06-2016 15:49</td>\n",
       "      <td>Business</td>\n",
       "      <td>Fort Pierce</td>\n",
       "      <td>West Palm Beach</td>\n",
       "      <td>63.7</td>\n",
       "      <td>Customer Visit</td>\n",
       "    </tr>\n",
       "    <tr>\n",
       "      <th>5</th>\n",
       "      <td>01-06-2016 17:15</td>\n",
       "      <td>01-06-2016 17:19</td>\n",
       "      <td>Business</td>\n",
       "      <td>West Palm Beach</td>\n",
       "      <td>West Palm Beach</td>\n",
       "      <td>4.3</td>\n",
       "      <td>Meal/Entertain</td>\n",
       "    </tr>\n",
       "    <tr>\n",
       "      <th>6</th>\n",
       "      <td>01-06-2016 17:30</td>\n",
       "      <td>01-06-2016 17:35</td>\n",
       "      <td>Business</td>\n",
       "      <td>West Palm Beach</td>\n",
       "      <td>Palm Beach</td>\n",
       "      <td>7.1</td>\n",
       "      <td>Meeting</td>\n",
       "    </tr>\n",
       "    <tr>\n",
       "      <th>7</th>\n",
       "      <td>01-07-2016 13:27</td>\n",
       "      <td>01-07-2016 13:33</td>\n",
       "      <td>Business</td>\n",
       "      <td>Cary</td>\n",
       "      <td>Cary</td>\n",
       "      <td>0.8</td>\n",
       "      <td>Meeting</td>\n",
       "    </tr>\n",
       "    <tr>\n",
       "      <th>8</th>\n",
       "      <td>01-10-2016 08:05</td>\n",
       "      <td>01-10-2016 08:25</td>\n",
       "      <td>Business</td>\n",
       "      <td>Cary</td>\n",
       "      <td>Morrisville</td>\n",
       "      <td>8.3</td>\n",
       "      <td>Meeting</td>\n",
       "    </tr>\n",
       "    <tr>\n",
       "      <th>9</th>\n",
       "      <td>01-10-2016 12:17</td>\n",
       "      <td>01-10-2016 12:44</td>\n",
       "      <td>Business</td>\n",
       "      <td>Jamaica</td>\n",
       "      <td>New York</td>\n",
       "      <td>16.5</td>\n",
       "      <td>Customer Visit</td>\n",
       "    </tr>\n",
       "  </tbody>\n",
       "</table>\n",
       "</div>"
      ],
      "text/plain": [
       "         START_DATE          END_DATE  CATEGORY            START  \\\n",
       "0  01-01-2016 21:11  01-01-2016 21:17  Business      Fort Pierce   \n",
       "1  01-02-2016 01:25  01-02-2016 01:37  Business      Fort Pierce   \n",
       "2  01-02-2016 20:25  01-02-2016 20:38  Business      Fort Pierce   \n",
       "3  01-05-2016 17:31  01-05-2016 17:45  Business      Fort Pierce   \n",
       "4  01-06-2016 14:42  01-06-2016 15:49  Business      Fort Pierce   \n",
       "5  01-06-2016 17:15  01-06-2016 17:19  Business  West Palm Beach   \n",
       "6  01-06-2016 17:30  01-06-2016 17:35  Business  West Palm Beach   \n",
       "7  01-07-2016 13:27  01-07-2016 13:33  Business             Cary   \n",
       "8  01-10-2016 08:05  01-10-2016 08:25  Business             Cary   \n",
       "9  01-10-2016 12:17  01-10-2016 12:44  Business          Jamaica   \n",
       "\n",
       "              STOP  MILES          PURPOSE  \n",
       "0      Fort Pierce    5.1   Meal/Entertain  \n",
       "1      Fort Pierce    5.0              NaN  \n",
       "2      Fort Pierce    4.8  Errand/Supplies  \n",
       "3      Fort Pierce    4.7          Meeting  \n",
       "4  West Palm Beach   63.7   Customer Visit  \n",
       "5  West Palm Beach    4.3   Meal/Entertain  \n",
       "6       Palm Beach    7.1          Meeting  \n",
       "7             Cary    0.8          Meeting  \n",
       "8      Morrisville    8.3          Meeting  \n",
       "9         New York   16.5   Customer Visit  "
      ]
     },
     "execution_count": 53,
     "metadata": {},
     "output_type": "execute_result"
    }
   ],
   "source": [
    "uber=pd.read_csv('UberDataset.csv')\n",
    "uber.head(10)"
   ]
  },
  {
   "cell_type": "markdown",
   "metadata": {},
   "source": [
    "## Data Cleaning"
   ]
  },
  {
   "cell_type": "code",
   "execution_count": 54,
   "metadata": {},
   "outputs": [
    {
     "name": "stdout",
     "output_type": "stream",
     "text": [
      "<class 'pandas.core.frame.DataFrame'>\n",
      "RangeIndex: 1156 entries, 0 to 1155\n",
      "Data columns (total 7 columns):\n",
      " #   Column      Non-Null Count  Dtype  \n",
      "---  ------      --------------  -----  \n",
      " 0   START_DATE  1156 non-null   object \n",
      " 1   END_DATE    1155 non-null   object \n",
      " 2   CATEGORY    1155 non-null   object \n",
      " 3   START       1155 non-null   object \n",
      " 4   STOP        1155 non-null   object \n",
      " 5   MILES       1156 non-null   float64\n",
      " 6   PURPOSE     653 non-null    object \n",
      "dtypes: float64(1), object(6)\n",
      "memory usage: 63.3+ KB\n"
     ]
    }
   ],
   "source": [
    "uber.info()"
   ]
  },
  {
   "cell_type": "code",
   "execution_count": 55,
   "metadata": {},
   "outputs": [
    {
     "data": {
      "text/html": [
       "<div>\n",
       "<style scoped>\n",
       "    .dataframe tbody tr th:only-of-type {\n",
       "        vertical-align: middle;\n",
       "    }\n",
       "\n",
       "    .dataframe tbody tr th {\n",
       "        vertical-align: top;\n",
       "    }\n",
       "\n",
       "    .dataframe thead th {\n",
       "        text-align: right;\n",
       "    }\n",
       "</style>\n",
       "<table border=\"1\" class=\"dataframe\">\n",
       "  <thead>\n",
       "    <tr style=\"text-align: right;\">\n",
       "      <th></th>\n",
       "      <th>MILES</th>\n",
       "    </tr>\n",
       "  </thead>\n",
       "  <tbody>\n",
       "    <tr>\n",
       "      <th>count</th>\n",
       "      <td>1156.000000</td>\n",
       "    </tr>\n",
       "    <tr>\n",
       "      <th>mean</th>\n",
       "      <td>21.115398</td>\n",
       "    </tr>\n",
       "    <tr>\n",
       "      <th>std</th>\n",
       "      <td>359.299007</td>\n",
       "    </tr>\n",
       "    <tr>\n",
       "      <th>min</th>\n",
       "      <td>0.500000</td>\n",
       "    </tr>\n",
       "    <tr>\n",
       "      <th>25%</th>\n",
       "      <td>2.900000</td>\n",
       "    </tr>\n",
       "    <tr>\n",
       "      <th>50%</th>\n",
       "      <td>6.000000</td>\n",
       "    </tr>\n",
       "    <tr>\n",
       "      <th>75%</th>\n",
       "      <td>10.400000</td>\n",
       "    </tr>\n",
       "    <tr>\n",
       "      <th>max</th>\n",
       "      <td>12204.700000</td>\n",
       "    </tr>\n",
       "  </tbody>\n",
       "</table>\n",
       "</div>"
      ],
      "text/plain": [
       "              MILES\n",
       "count   1156.000000\n",
       "mean      21.115398\n",
       "std      359.299007\n",
       "min        0.500000\n",
       "25%        2.900000\n",
       "50%        6.000000\n",
       "75%       10.400000\n",
       "max    12204.700000"
      ]
     },
     "execution_count": 55,
     "metadata": {},
     "output_type": "execute_result"
    }
   ],
   "source": [
    "uber.describe()"
   ]
  },
  {
   "cell_type": "markdown",
   "metadata": {},
   "source": [
    "### Checking for missing values\n"
   ]
  },
  {
   "cell_type": "code",
   "execution_count": 56,
   "metadata": {},
   "outputs": [
    {
     "data": {
      "text/plain": [
       "START_DATE      0\n",
       "END_DATE        1\n",
       "CATEGORY        1\n",
       "START           1\n",
       "STOP            1\n",
       "MILES           0\n",
       "PURPOSE       503\n",
       "dtype: int64"
      ]
     },
     "execution_count": 56,
     "metadata": {},
     "output_type": "execute_result"
    }
   ],
   "source": [
    "uber.isnull().sum()"
   ]
  },
  {
   "cell_type": "markdown",
   "metadata": {},
   "source": [
    "### Checking for duplicate values\n"
   ]
  },
  {
   "cell_type": "code",
   "execution_count": 57,
   "metadata": {},
   "outputs": [
    {
     "data": {
      "text/plain": [
       "np.int64(1)"
      ]
     },
     "execution_count": 57,
     "metadata": {},
     "output_type": "execute_result"
    }
   ],
   "source": [
    "uber.duplicated().sum()"
   ]
  },
  {
   "cell_type": "code",
   "execution_count": 58,
   "metadata": {},
   "outputs": [
    {
     "data": {
      "text/html": [
       "<div>\n",
       "<style scoped>\n",
       "    .dataframe tbody tr th:only-of-type {\n",
       "        vertical-align: middle;\n",
       "    }\n",
       "\n",
       "    .dataframe tbody tr th {\n",
       "        vertical-align: top;\n",
       "    }\n",
       "\n",
       "    .dataframe thead th {\n",
       "        text-align: right;\n",
       "    }\n",
       "</style>\n",
       "<table border=\"1\" class=\"dataframe\">\n",
       "  <thead>\n",
       "    <tr style=\"text-align: right;\">\n",
       "      <th></th>\n",
       "      <th>START_DATE</th>\n",
       "      <th>END_DATE</th>\n",
       "      <th>CATEGORY</th>\n",
       "      <th>START</th>\n",
       "      <th>STOP</th>\n",
       "      <th>MILES</th>\n",
       "      <th>PURPOSE</th>\n",
       "    </tr>\n",
       "  </thead>\n",
       "  <tbody>\n",
       "    <tr>\n",
       "      <th>492</th>\n",
       "      <td>6/28/2016 23:34</td>\n",
       "      <td>6/28/2016 23:59</td>\n",
       "      <td>Business</td>\n",
       "      <td>Durham</td>\n",
       "      <td>Cary</td>\n",
       "      <td>9.9</td>\n",
       "      <td>Meeting</td>\n",
       "    </tr>\n",
       "  </tbody>\n",
       "</table>\n",
       "</div>"
      ],
      "text/plain": [
       "          START_DATE         END_DATE  CATEGORY   START  STOP  MILES  PURPOSE\n",
       "492  6/28/2016 23:34  6/28/2016 23:59  Business  Durham  Cary    9.9  Meeting"
      ]
     },
     "execution_count": 58,
     "metadata": {},
     "output_type": "execute_result"
    }
   ],
   "source": [
    "uber[uber.duplicated()]"
   ]
  },
  {
   "cell_type": "markdown",
   "metadata": {},
   "source": [
    "### Checking for unique values\n"
   ]
  },
  {
   "cell_type": "code",
   "execution_count": 59,
   "metadata": {},
   "outputs": [
    {
     "data": {
      "text/plain": [
       "START_DATE    1155\n",
       "END_DATE      1154\n",
       "CATEGORY         2\n",
       "START          177\n",
       "STOP           188\n",
       "MILES          257\n",
       "PURPOSE         10\n",
       "dtype: int64"
      ]
     },
     "execution_count": 59,
     "metadata": {},
     "output_type": "execute_result"
    }
   ],
   "source": [
    "uber.nunique()"
   ]
  },
  {
   "cell_type": "markdown",
   "metadata": {},
   "source": [
    "### solve the problem of missing values\n"
   ]
  },
  {
   "cell_type": "code",
   "execution_count": 60,
   "metadata": {},
   "outputs": [
    {
     "data": {
      "text/plain": [
       "PURPOSE\n",
       "Meeting            187\n",
       "Meal/Entertain     160\n",
       "Errand/Supplies    128\n",
       "Customer Visit     101\n",
       "Temporary Site      50\n",
       "Between Offices     18\n",
       "Moving               4\n",
       "Airport/Travel       3\n",
       "Commute              1\n",
       "Charity ($)          1\n",
       "Name: count, dtype: int64"
      ]
     },
     "execution_count": 60,
     "metadata": {},
     "output_type": "execute_result"
    }
   ],
   "source": [
    "uber['PURPOSE'].value_counts()"
   ]
  },
  {
   "cell_type": "code",
   "execution_count": 61,
   "metadata": {},
   "outputs": [],
   "source": [
    "#uber['PURPOSE'].ffill(inplace=True)\n",
    "uber['PURPOSE'] = uber['PURPOSE'].ffill()"
   ]
  },
  {
   "cell_type": "code",
   "execution_count": 62,
   "metadata": {},
   "outputs": [],
   "source": [
    "# uber['END_DATE'].ffill(inplace=True)\n",
    "# uber['CATEGORY'].ffill(inplace=True)\n",
    "# uber['START'].ffill(inplace=True)\n",
    "# uber['STOP'].ffill(inplace=True)\n",
    "\n",
    "uber['END_DATE'] = uber['END_DATE'].ffill()\n",
    "uber['CATEGORY'] = uber['CATEGORY'].ffill()\n",
    "uber['START'] = uber['START'].ffill()\n",
    "uber['STOP'] = uber['STOP'].ffill()"
   ]
  },
  {
   "cell_type": "code",
   "execution_count": 63,
   "metadata": {},
   "outputs": [
    {
     "data": {
      "text/plain": [
       "START_DATE    0\n",
       "END_DATE      0\n",
       "CATEGORY      0\n",
       "START         0\n",
       "STOP          0\n",
       "MILES         0\n",
       "PURPOSE       0\n",
       "dtype: int64"
      ]
     },
     "execution_count": 63,
     "metadata": {},
     "output_type": "execute_result"
    }
   ],
   "source": [
    "uber.isnull().sum()"
   ]
  },
  {
   "cell_type": "markdown",
   "metadata": {},
   "source": [
    "## Solving Problem of Duplicate Value"
   ]
  },
  {
   "cell_type": "code",
   "execution_count": 64,
   "metadata": {},
   "outputs": [],
   "source": [
    "uber.drop_duplicates(inplace=True)"
   ]
  },
  {
   "cell_type": "code",
   "execution_count": 65,
   "metadata": {},
   "outputs": [
    {
     "data": {
      "text/html": [
       "<div>\n",
       "<style scoped>\n",
       "    .dataframe tbody tr th:only-of-type {\n",
       "        vertical-align: middle;\n",
       "    }\n",
       "\n",
       "    .dataframe tbody tr th {\n",
       "        vertical-align: top;\n",
       "    }\n",
       "\n",
       "    .dataframe thead th {\n",
       "        text-align: right;\n",
       "    }\n",
       "</style>\n",
       "<table border=\"1\" class=\"dataframe\">\n",
       "  <thead>\n",
       "    <tr style=\"text-align: right;\">\n",
       "      <th></th>\n",
       "      <th>START_DATE</th>\n",
       "      <th>END_DATE</th>\n",
       "      <th>CATEGORY</th>\n",
       "      <th>START</th>\n",
       "      <th>STOP</th>\n",
       "      <th>MILES</th>\n",
       "      <th>PURPOSE</th>\n",
       "    </tr>\n",
       "  </thead>\n",
       "  <tbody>\n",
       "  </tbody>\n",
       "</table>\n",
       "</div>"
      ],
      "text/plain": [
       "Empty DataFrame\n",
       "Columns: [START_DATE, END_DATE, CATEGORY, START, STOP, MILES, PURPOSE]\n",
       "Index: []"
      ]
     },
     "execution_count": 65,
     "metadata": {},
     "output_type": "execute_result"
    }
   ],
   "source": [
    "uber[uber.duplicated()]"
   ]
  },
  {
   "cell_type": "markdown",
   "metadata": {},
   "source": [
    "## Solve start date,end date and time converting to datetime"
   ]
  },
  {
   "cell_type": "code",
   "execution_count": 66,
   "metadata": {},
   "outputs": [],
   "source": [
    "uber['START_DATE'] = pd.to_datetime(uber['START_DATE'],errors='coerce')  #If a value can't be converted to a valid date/time,it will be replaced with NaT (Not a Time) \n",
    "uber['END_DATE'] = pd.to_datetime(uber['END_DATE'],errors='coerce')"
   ]
  },
  {
   "cell_type": "code",
   "execution_count": 67,
   "metadata": {},
   "outputs": [
    {
     "data": {
      "text/html": [
       "<div>\n",
       "<style scoped>\n",
       "    .dataframe tbody tr th:only-of-type {\n",
       "        vertical-align: middle;\n",
       "    }\n",
       "\n",
       "    .dataframe tbody tr th {\n",
       "        vertical-align: top;\n",
       "    }\n",
       "\n",
       "    .dataframe thead th {\n",
       "        text-align: right;\n",
       "    }\n",
       "</style>\n",
       "<table border=\"1\" class=\"dataframe\">\n",
       "  <thead>\n",
       "    <tr style=\"text-align: right;\">\n",
       "      <th></th>\n",
       "      <th>START_DATE</th>\n",
       "      <th>END_DATE</th>\n",
       "      <th>CATEGORY</th>\n",
       "      <th>START</th>\n",
       "      <th>STOP</th>\n",
       "      <th>MILES</th>\n",
       "      <th>PURPOSE</th>\n",
       "    </tr>\n",
       "  </thead>\n",
       "  <tbody>\n",
       "    <tr>\n",
       "      <th>0</th>\n",
       "      <td>2016-01-01 21:11:00</td>\n",
       "      <td>2016-01-01 21:17:00</td>\n",
       "      <td>Business</td>\n",
       "      <td>Fort Pierce</td>\n",
       "      <td>Fort Pierce</td>\n",
       "      <td>5.1</td>\n",
       "      <td>Meal/Entertain</td>\n",
       "    </tr>\n",
       "    <tr>\n",
       "      <th>1</th>\n",
       "      <td>2016-01-02 01:25:00</td>\n",
       "      <td>2016-01-02 01:37:00</td>\n",
       "      <td>Business</td>\n",
       "      <td>Fort Pierce</td>\n",
       "      <td>Fort Pierce</td>\n",
       "      <td>5.0</td>\n",
       "      <td>Meal/Entertain</td>\n",
       "    </tr>\n",
       "    <tr>\n",
       "      <th>2</th>\n",
       "      <td>2016-01-02 20:25:00</td>\n",
       "      <td>2016-01-02 20:38:00</td>\n",
       "      <td>Business</td>\n",
       "      <td>Fort Pierce</td>\n",
       "      <td>Fort Pierce</td>\n",
       "      <td>4.8</td>\n",
       "      <td>Errand/Supplies</td>\n",
       "    </tr>\n",
       "    <tr>\n",
       "      <th>3</th>\n",
       "      <td>2016-01-05 17:31:00</td>\n",
       "      <td>2016-01-05 17:45:00</td>\n",
       "      <td>Business</td>\n",
       "      <td>Fort Pierce</td>\n",
       "      <td>Fort Pierce</td>\n",
       "      <td>4.7</td>\n",
       "      <td>Meeting</td>\n",
       "    </tr>\n",
       "    <tr>\n",
       "      <th>4</th>\n",
       "      <td>2016-01-06 14:42:00</td>\n",
       "      <td>2016-01-06 15:49:00</td>\n",
       "      <td>Business</td>\n",
       "      <td>Fort Pierce</td>\n",
       "      <td>West Palm Beach</td>\n",
       "      <td>63.7</td>\n",
       "      <td>Customer Visit</td>\n",
       "    </tr>\n",
       "    <tr>\n",
       "      <th>5</th>\n",
       "      <td>2016-01-06 17:15:00</td>\n",
       "      <td>2016-01-06 17:19:00</td>\n",
       "      <td>Business</td>\n",
       "      <td>West Palm Beach</td>\n",
       "      <td>West Palm Beach</td>\n",
       "      <td>4.3</td>\n",
       "      <td>Meal/Entertain</td>\n",
       "    </tr>\n",
       "    <tr>\n",
       "      <th>6</th>\n",
       "      <td>2016-01-06 17:30:00</td>\n",
       "      <td>2016-01-06 17:35:00</td>\n",
       "      <td>Business</td>\n",
       "      <td>West Palm Beach</td>\n",
       "      <td>Palm Beach</td>\n",
       "      <td>7.1</td>\n",
       "      <td>Meeting</td>\n",
       "    </tr>\n",
       "    <tr>\n",
       "      <th>7</th>\n",
       "      <td>2016-01-07 13:27:00</td>\n",
       "      <td>2016-01-07 13:33:00</td>\n",
       "      <td>Business</td>\n",
       "      <td>Cary</td>\n",
       "      <td>Cary</td>\n",
       "      <td>0.8</td>\n",
       "      <td>Meeting</td>\n",
       "    </tr>\n",
       "    <tr>\n",
       "      <th>8</th>\n",
       "      <td>2016-01-10 08:05:00</td>\n",
       "      <td>2016-01-10 08:25:00</td>\n",
       "      <td>Business</td>\n",
       "      <td>Cary</td>\n",
       "      <td>Morrisville</td>\n",
       "      <td>8.3</td>\n",
       "      <td>Meeting</td>\n",
       "    </tr>\n",
       "    <tr>\n",
       "      <th>9</th>\n",
       "      <td>2016-01-10 12:17:00</td>\n",
       "      <td>2016-01-10 12:44:00</td>\n",
       "      <td>Business</td>\n",
       "      <td>Jamaica</td>\n",
       "      <td>New York</td>\n",
       "      <td>16.5</td>\n",
       "      <td>Customer Visit</td>\n",
       "    </tr>\n",
       "  </tbody>\n",
       "</table>\n",
       "</div>"
      ],
      "text/plain": [
       "           START_DATE            END_DATE  CATEGORY            START  \\\n",
       "0 2016-01-01 21:11:00 2016-01-01 21:17:00  Business      Fort Pierce   \n",
       "1 2016-01-02 01:25:00 2016-01-02 01:37:00  Business      Fort Pierce   \n",
       "2 2016-01-02 20:25:00 2016-01-02 20:38:00  Business      Fort Pierce   \n",
       "3 2016-01-05 17:31:00 2016-01-05 17:45:00  Business      Fort Pierce   \n",
       "4 2016-01-06 14:42:00 2016-01-06 15:49:00  Business      Fort Pierce   \n",
       "5 2016-01-06 17:15:00 2016-01-06 17:19:00  Business  West Palm Beach   \n",
       "6 2016-01-06 17:30:00 2016-01-06 17:35:00  Business  West Palm Beach   \n",
       "7 2016-01-07 13:27:00 2016-01-07 13:33:00  Business             Cary   \n",
       "8 2016-01-10 08:05:00 2016-01-10 08:25:00  Business             Cary   \n",
       "9 2016-01-10 12:17:00 2016-01-10 12:44:00  Business          Jamaica   \n",
       "\n",
       "              STOP  MILES          PURPOSE  \n",
       "0      Fort Pierce    5.1   Meal/Entertain  \n",
       "1      Fort Pierce    5.0   Meal/Entertain  \n",
       "2      Fort Pierce    4.8  Errand/Supplies  \n",
       "3      Fort Pierce    4.7          Meeting  \n",
       "4  West Palm Beach   63.7   Customer Visit  \n",
       "5  West Palm Beach    4.3   Meal/Entertain  \n",
       "6       Palm Beach    7.1          Meeting  \n",
       "7             Cary    0.8          Meeting  \n",
       "8      Morrisville    8.3          Meeting  \n",
       "9         New York   16.5   Customer Visit  "
      ]
     },
     "execution_count": 67,
     "metadata": {},
     "output_type": "execute_result"
    }
   ],
   "source": [
    "uber.head(10)"
   ]
  },
  {
   "cell_type": "markdown",
   "metadata": {},
   "source": [
    "### seperate the date and time and month and year\n"
   ]
  },
  {
   "cell_type": "code",
   "execution_count": 68,
   "metadata": {},
   "outputs": [],
   "source": [
    "# seperate the date and time and month and year\n",
    "uber['start_date'] = uber['START_DATE'].dt.date\n",
    "uber['start_time'] = uber['START_DATE'].dt.time\n",
    "uber['end_date'] = uber['END_DATE'].dt.date\n",
    "uber['end_time'] = uber['END_DATE'].dt.time\n",
    "uber['month'] = uber['START_DATE'].dt.month\n",
    "uber['year'] = uber['START_DATE'].dt.year\n"
   ]
  },
  {
   "cell_type": "code",
   "execution_count": 69,
   "metadata": {},
   "outputs": [
    {
     "data": {
      "text/html": [
       "<div>\n",
       "<style scoped>\n",
       "    .dataframe tbody tr th:only-of-type {\n",
       "        vertical-align: middle;\n",
       "    }\n",
       "\n",
       "    .dataframe tbody tr th {\n",
       "        vertical-align: top;\n",
       "    }\n",
       "\n",
       "    .dataframe thead th {\n",
       "        text-align: right;\n",
       "    }\n",
       "</style>\n",
       "<table border=\"1\" class=\"dataframe\">\n",
       "  <thead>\n",
       "    <tr style=\"text-align: right;\">\n",
       "      <th></th>\n",
       "      <th>START_DATE</th>\n",
       "      <th>END_DATE</th>\n",
       "      <th>CATEGORY</th>\n",
       "      <th>START</th>\n",
       "      <th>STOP</th>\n",
       "      <th>MILES</th>\n",
       "      <th>PURPOSE</th>\n",
       "      <th>start_date</th>\n",
       "      <th>start_time</th>\n",
       "      <th>end_date</th>\n",
       "      <th>end_time</th>\n",
       "      <th>month</th>\n",
       "      <th>year</th>\n",
       "    </tr>\n",
       "  </thead>\n",
       "  <tbody>\n",
       "    <tr>\n",
       "      <th>0</th>\n",
       "      <td>2016-01-01 21:11:00</td>\n",
       "      <td>2016-01-01 21:17:00</td>\n",
       "      <td>Business</td>\n",
       "      <td>Fort Pierce</td>\n",
       "      <td>Fort Pierce</td>\n",
       "      <td>5.1</td>\n",
       "      <td>Meal/Entertain</td>\n",
       "      <td>2016-01-01</td>\n",
       "      <td>21:11:00</td>\n",
       "      <td>2016-01-01</td>\n",
       "      <td>21:17:00</td>\n",
       "      <td>1.0</td>\n",
       "      <td>2016.0</td>\n",
       "    </tr>\n",
       "    <tr>\n",
       "      <th>1</th>\n",
       "      <td>2016-01-02 01:25:00</td>\n",
       "      <td>2016-01-02 01:37:00</td>\n",
       "      <td>Business</td>\n",
       "      <td>Fort Pierce</td>\n",
       "      <td>Fort Pierce</td>\n",
       "      <td>5.0</td>\n",
       "      <td>Meal/Entertain</td>\n",
       "      <td>2016-01-02</td>\n",
       "      <td>01:25:00</td>\n",
       "      <td>2016-01-02</td>\n",
       "      <td>01:37:00</td>\n",
       "      <td>1.0</td>\n",
       "      <td>2016.0</td>\n",
       "    </tr>\n",
       "    <tr>\n",
       "      <th>2</th>\n",
       "      <td>2016-01-02 20:25:00</td>\n",
       "      <td>2016-01-02 20:38:00</td>\n",
       "      <td>Business</td>\n",
       "      <td>Fort Pierce</td>\n",
       "      <td>Fort Pierce</td>\n",
       "      <td>4.8</td>\n",
       "      <td>Errand/Supplies</td>\n",
       "      <td>2016-01-02</td>\n",
       "      <td>20:25:00</td>\n",
       "      <td>2016-01-02</td>\n",
       "      <td>20:38:00</td>\n",
       "      <td>1.0</td>\n",
       "      <td>2016.0</td>\n",
       "    </tr>\n",
       "    <tr>\n",
       "      <th>3</th>\n",
       "      <td>2016-01-05 17:31:00</td>\n",
       "      <td>2016-01-05 17:45:00</td>\n",
       "      <td>Business</td>\n",
       "      <td>Fort Pierce</td>\n",
       "      <td>Fort Pierce</td>\n",
       "      <td>4.7</td>\n",
       "      <td>Meeting</td>\n",
       "      <td>2016-01-05</td>\n",
       "      <td>17:31:00</td>\n",
       "      <td>2016-01-05</td>\n",
       "      <td>17:45:00</td>\n",
       "      <td>1.0</td>\n",
       "      <td>2016.0</td>\n",
       "    </tr>\n",
       "    <tr>\n",
       "      <th>4</th>\n",
       "      <td>2016-01-06 14:42:00</td>\n",
       "      <td>2016-01-06 15:49:00</td>\n",
       "      <td>Business</td>\n",
       "      <td>Fort Pierce</td>\n",
       "      <td>West Palm Beach</td>\n",
       "      <td>63.7</td>\n",
       "      <td>Customer Visit</td>\n",
       "      <td>2016-01-06</td>\n",
       "      <td>14:42:00</td>\n",
       "      <td>2016-01-06</td>\n",
       "      <td>15:49:00</td>\n",
       "      <td>1.0</td>\n",
       "      <td>2016.0</td>\n",
       "    </tr>\n",
       "    <tr>\n",
       "      <th>5</th>\n",
       "      <td>2016-01-06 17:15:00</td>\n",
       "      <td>2016-01-06 17:19:00</td>\n",
       "      <td>Business</td>\n",
       "      <td>West Palm Beach</td>\n",
       "      <td>West Palm Beach</td>\n",
       "      <td>4.3</td>\n",
       "      <td>Meal/Entertain</td>\n",
       "      <td>2016-01-06</td>\n",
       "      <td>17:15:00</td>\n",
       "      <td>2016-01-06</td>\n",
       "      <td>17:19:00</td>\n",
       "      <td>1.0</td>\n",
       "      <td>2016.0</td>\n",
       "    </tr>\n",
       "    <tr>\n",
       "      <th>6</th>\n",
       "      <td>2016-01-06 17:30:00</td>\n",
       "      <td>2016-01-06 17:35:00</td>\n",
       "      <td>Business</td>\n",
       "      <td>West Palm Beach</td>\n",
       "      <td>Palm Beach</td>\n",
       "      <td>7.1</td>\n",
       "      <td>Meeting</td>\n",
       "      <td>2016-01-06</td>\n",
       "      <td>17:30:00</td>\n",
       "      <td>2016-01-06</td>\n",
       "      <td>17:35:00</td>\n",
       "      <td>1.0</td>\n",
       "      <td>2016.0</td>\n",
       "    </tr>\n",
       "    <tr>\n",
       "      <th>7</th>\n",
       "      <td>2016-01-07 13:27:00</td>\n",
       "      <td>2016-01-07 13:33:00</td>\n",
       "      <td>Business</td>\n",
       "      <td>Cary</td>\n",
       "      <td>Cary</td>\n",
       "      <td>0.8</td>\n",
       "      <td>Meeting</td>\n",
       "      <td>2016-01-07</td>\n",
       "      <td>13:27:00</td>\n",
       "      <td>2016-01-07</td>\n",
       "      <td>13:33:00</td>\n",
       "      <td>1.0</td>\n",
       "      <td>2016.0</td>\n",
       "    </tr>\n",
       "    <tr>\n",
       "      <th>8</th>\n",
       "      <td>2016-01-10 08:05:00</td>\n",
       "      <td>2016-01-10 08:25:00</td>\n",
       "      <td>Business</td>\n",
       "      <td>Cary</td>\n",
       "      <td>Morrisville</td>\n",
       "      <td>8.3</td>\n",
       "      <td>Meeting</td>\n",
       "      <td>2016-01-10</td>\n",
       "      <td>08:05:00</td>\n",
       "      <td>2016-01-10</td>\n",
       "      <td>08:25:00</td>\n",
       "      <td>1.0</td>\n",
       "      <td>2016.0</td>\n",
       "    </tr>\n",
       "    <tr>\n",
       "      <th>9</th>\n",
       "      <td>2016-01-10 12:17:00</td>\n",
       "      <td>2016-01-10 12:44:00</td>\n",
       "      <td>Business</td>\n",
       "      <td>Jamaica</td>\n",
       "      <td>New York</td>\n",
       "      <td>16.5</td>\n",
       "      <td>Customer Visit</td>\n",
       "      <td>2016-01-10</td>\n",
       "      <td>12:17:00</td>\n",
       "      <td>2016-01-10</td>\n",
       "      <td>12:44:00</td>\n",
       "      <td>1.0</td>\n",
       "      <td>2016.0</td>\n",
       "    </tr>\n",
       "  </tbody>\n",
       "</table>\n",
       "</div>"
      ],
      "text/plain": [
       "           START_DATE            END_DATE  CATEGORY            START  \\\n",
       "0 2016-01-01 21:11:00 2016-01-01 21:17:00  Business      Fort Pierce   \n",
       "1 2016-01-02 01:25:00 2016-01-02 01:37:00  Business      Fort Pierce   \n",
       "2 2016-01-02 20:25:00 2016-01-02 20:38:00  Business      Fort Pierce   \n",
       "3 2016-01-05 17:31:00 2016-01-05 17:45:00  Business      Fort Pierce   \n",
       "4 2016-01-06 14:42:00 2016-01-06 15:49:00  Business      Fort Pierce   \n",
       "5 2016-01-06 17:15:00 2016-01-06 17:19:00  Business  West Palm Beach   \n",
       "6 2016-01-06 17:30:00 2016-01-06 17:35:00  Business  West Palm Beach   \n",
       "7 2016-01-07 13:27:00 2016-01-07 13:33:00  Business             Cary   \n",
       "8 2016-01-10 08:05:00 2016-01-10 08:25:00  Business             Cary   \n",
       "9 2016-01-10 12:17:00 2016-01-10 12:44:00  Business          Jamaica   \n",
       "\n",
       "              STOP  MILES          PURPOSE  start_date start_time    end_date  \\\n",
       "0      Fort Pierce    5.1   Meal/Entertain  2016-01-01   21:11:00  2016-01-01   \n",
       "1      Fort Pierce    5.0   Meal/Entertain  2016-01-02   01:25:00  2016-01-02   \n",
       "2      Fort Pierce    4.8  Errand/Supplies  2016-01-02   20:25:00  2016-01-02   \n",
       "3      Fort Pierce    4.7          Meeting  2016-01-05   17:31:00  2016-01-05   \n",
       "4  West Palm Beach   63.7   Customer Visit  2016-01-06   14:42:00  2016-01-06   \n",
       "5  West Palm Beach    4.3   Meal/Entertain  2016-01-06   17:15:00  2016-01-06   \n",
       "6       Palm Beach    7.1          Meeting  2016-01-06   17:30:00  2016-01-06   \n",
       "7             Cary    0.8          Meeting  2016-01-07   13:27:00  2016-01-07   \n",
       "8      Morrisville    8.3          Meeting  2016-01-10   08:05:00  2016-01-10   \n",
       "9         New York   16.5   Customer Visit  2016-01-10   12:17:00  2016-01-10   \n",
       "\n",
       "   end_time  month    year  \n",
       "0  21:17:00    1.0  2016.0  \n",
       "1  01:37:00    1.0  2016.0  \n",
       "2  20:38:00    1.0  2016.0  \n",
       "3  17:45:00    1.0  2016.0  \n",
       "4  15:49:00    1.0  2016.0  \n",
       "5  17:19:00    1.0  2016.0  \n",
       "6  17:35:00    1.0  2016.0  \n",
       "7  13:33:00    1.0  2016.0  \n",
       "8  08:25:00    1.0  2016.0  \n",
       "9  12:44:00    1.0  2016.0  "
      ]
     },
     "execution_count": 69,
     "metadata": {},
     "output_type": "execute_result"
    }
   ],
   "source": [
    "uber.head(10)"
   ]
  },
  {
   "cell_type": "markdown",
   "metadata": {},
   "source": [
    "### remove START_DATE END_DATE and rearrange the columns\n"
   ]
  },
  {
   "cell_type": "code",
   "execution_count": 70,
   "metadata": {},
   "outputs": [],
   "source": [
    "uber.drop(['START_DATE','END_DATE'],axis=1,inplace=True)\n",
    "uber = uber[['start_date','start_time','end_date','end_time','month','year','CATEGORY','START','STOP','MILES','PURPOSE']]"
   ]
  },
  {
   "cell_type": "code",
   "execution_count": 71,
   "metadata": {},
   "outputs": [
    {
     "data": {
      "text/plain": [
       "month\n",
       "11.0    63\n",
       "8.0     43\n",
       "3.0     42\n",
       "6.0     42\n",
       "7.0     41\n",
       "2.0     40\n",
       "12.0    39\n",
       "5.0     26\n",
       "4.0     25\n",
       "10.0    24\n",
       "1.0     23\n",
       "9.0     13\n",
       "Name: count, dtype: int64"
      ]
     },
     "execution_count": 71,
     "metadata": {},
     "output_type": "execute_result"
    }
   ],
   "source": [
    "uber.month.value_counts()"
   ]
  },
  {
   "cell_type": "code",
   "execution_count": 72,
   "metadata": {},
   "outputs": [
    {
     "data": {
      "text/plain": [
       "np.int64(734)"
      ]
     },
     "execution_count": 72,
     "metadata": {},
     "output_type": "execute_result"
    }
   ],
   "source": [
    "uber.month.isnull().sum()"
   ]
  },
  {
   "cell_type": "markdown",
   "metadata": {},
   "source": [
    "### convert month to integer\n"
   ]
  },
  {
   "cell_type": "code",
   "execution_count": 73,
   "metadata": {},
   "outputs": [],
   "source": [
    "# uber.month.fillna(fill,inplace=True)\n",
    "uber['month'] = uber['month'].fillna(uber['month'].mode()[0])\n",
    "uber['month'] = uber['month'].astype(int)\n"
   ]
  },
  {
   "cell_type": "code",
   "execution_count": 74,
   "metadata": {},
   "outputs": [
    {
     "data": {
      "text/html": [
       "<div>\n",
       "<style scoped>\n",
       "    .dataframe tbody tr th:only-of-type {\n",
       "        vertical-align: middle;\n",
       "    }\n",
       "\n",
       "    .dataframe tbody tr th {\n",
       "        vertical-align: top;\n",
       "    }\n",
       "\n",
       "    .dataframe thead th {\n",
       "        text-align: right;\n",
       "    }\n",
       "</style>\n",
       "<table border=\"1\" class=\"dataframe\">\n",
       "  <thead>\n",
       "    <tr style=\"text-align: right;\">\n",
       "      <th></th>\n",
       "      <th>start_date</th>\n",
       "      <th>start_time</th>\n",
       "      <th>end_date</th>\n",
       "      <th>end_time</th>\n",
       "      <th>month</th>\n",
       "      <th>year</th>\n",
       "      <th>CATEGORY</th>\n",
       "      <th>START</th>\n",
       "      <th>STOP</th>\n",
       "      <th>MILES</th>\n",
       "      <th>PURPOSE</th>\n",
       "    </tr>\n",
       "  </thead>\n",
       "  <tbody>\n",
       "    <tr>\n",
       "      <th>0</th>\n",
       "      <td>2016-01-01</td>\n",
       "      <td>21:11:00</td>\n",
       "      <td>2016-01-01</td>\n",
       "      <td>21:17:00</td>\n",
       "      <td>1</td>\n",
       "      <td>2016.0</td>\n",
       "      <td>Business</td>\n",
       "      <td>Fort Pierce</td>\n",
       "      <td>Fort Pierce</td>\n",
       "      <td>5.1</td>\n",
       "      <td>Meal/Entertain</td>\n",
       "    </tr>\n",
       "    <tr>\n",
       "      <th>1</th>\n",
       "      <td>2016-01-02</td>\n",
       "      <td>01:25:00</td>\n",
       "      <td>2016-01-02</td>\n",
       "      <td>01:37:00</td>\n",
       "      <td>1</td>\n",
       "      <td>2016.0</td>\n",
       "      <td>Business</td>\n",
       "      <td>Fort Pierce</td>\n",
       "      <td>Fort Pierce</td>\n",
       "      <td>5.0</td>\n",
       "      <td>Meal/Entertain</td>\n",
       "    </tr>\n",
       "    <tr>\n",
       "      <th>2</th>\n",
       "      <td>2016-01-02</td>\n",
       "      <td>20:25:00</td>\n",
       "      <td>2016-01-02</td>\n",
       "      <td>20:38:00</td>\n",
       "      <td>1</td>\n",
       "      <td>2016.0</td>\n",
       "      <td>Business</td>\n",
       "      <td>Fort Pierce</td>\n",
       "      <td>Fort Pierce</td>\n",
       "      <td>4.8</td>\n",
       "      <td>Errand/Supplies</td>\n",
       "    </tr>\n",
       "    <tr>\n",
       "      <th>3</th>\n",
       "      <td>2016-01-05</td>\n",
       "      <td>17:31:00</td>\n",
       "      <td>2016-01-05</td>\n",
       "      <td>17:45:00</td>\n",
       "      <td>1</td>\n",
       "      <td>2016.0</td>\n",
       "      <td>Business</td>\n",
       "      <td>Fort Pierce</td>\n",
       "      <td>Fort Pierce</td>\n",
       "      <td>4.7</td>\n",
       "      <td>Meeting</td>\n",
       "    </tr>\n",
       "    <tr>\n",
       "      <th>4</th>\n",
       "      <td>2016-01-06</td>\n",
       "      <td>14:42:00</td>\n",
       "      <td>2016-01-06</td>\n",
       "      <td>15:49:00</td>\n",
       "      <td>1</td>\n",
       "      <td>2016.0</td>\n",
       "      <td>Business</td>\n",
       "      <td>Fort Pierce</td>\n",
       "      <td>West Palm Beach</td>\n",
       "      <td>63.7</td>\n",
       "      <td>Customer Visit</td>\n",
       "    </tr>\n",
       "    <tr>\n",
       "      <th>5</th>\n",
       "      <td>2016-01-06</td>\n",
       "      <td>17:15:00</td>\n",
       "      <td>2016-01-06</td>\n",
       "      <td>17:19:00</td>\n",
       "      <td>1</td>\n",
       "      <td>2016.0</td>\n",
       "      <td>Business</td>\n",
       "      <td>West Palm Beach</td>\n",
       "      <td>West Palm Beach</td>\n",
       "      <td>4.3</td>\n",
       "      <td>Meal/Entertain</td>\n",
       "    </tr>\n",
       "    <tr>\n",
       "      <th>6</th>\n",
       "      <td>2016-01-06</td>\n",
       "      <td>17:30:00</td>\n",
       "      <td>2016-01-06</td>\n",
       "      <td>17:35:00</td>\n",
       "      <td>1</td>\n",
       "      <td>2016.0</td>\n",
       "      <td>Business</td>\n",
       "      <td>West Palm Beach</td>\n",
       "      <td>Palm Beach</td>\n",
       "      <td>7.1</td>\n",
       "      <td>Meeting</td>\n",
       "    </tr>\n",
       "    <tr>\n",
       "      <th>7</th>\n",
       "      <td>2016-01-07</td>\n",
       "      <td>13:27:00</td>\n",
       "      <td>2016-01-07</td>\n",
       "      <td>13:33:00</td>\n",
       "      <td>1</td>\n",
       "      <td>2016.0</td>\n",
       "      <td>Business</td>\n",
       "      <td>Cary</td>\n",
       "      <td>Cary</td>\n",
       "      <td>0.8</td>\n",
       "      <td>Meeting</td>\n",
       "    </tr>\n",
       "    <tr>\n",
       "      <th>8</th>\n",
       "      <td>2016-01-10</td>\n",
       "      <td>08:05:00</td>\n",
       "      <td>2016-01-10</td>\n",
       "      <td>08:25:00</td>\n",
       "      <td>1</td>\n",
       "      <td>2016.0</td>\n",
       "      <td>Business</td>\n",
       "      <td>Cary</td>\n",
       "      <td>Morrisville</td>\n",
       "      <td>8.3</td>\n",
       "      <td>Meeting</td>\n",
       "    </tr>\n",
       "    <tr>\n",
       "      <th>9</th>\n",
       "      <td>2016-01-10</td>\n",
       "      <td>12:17:00</td>\n",
       "      <td>2016-01-10</td>\n",
       "      <td>12:44:00</td>\n",
       "      <td>1</td>\n",
       "      <td>2016.0</td>\n",
       "      <td>Business</td>\n",
       "      <td>Jamaica</td>\n",
       "      <td>New York</td>\n",
       "      <td>16.5</td>\n",
       "      <td>Customer Visit</td>\n",
       "    </tr>\n",
       "  </tbody>\n",
       "</table>\n",
       "</div>"
      ],
      "text/plain": [
       "   start_date start_time    end_date  end_time  month    year  CATEGORY  \\\n",
       "0  2016-01-01   21:11:00  2016-01-01  21:17:00      1  2016.0  Business   \n",
       "1  2016-01-02   01:25:00  2016-01-02  01:37:00      1  2016.0  Business   \n",
       "2  2016-01-02   20:25:00  2016-01-02  20:38:00      1  2016.0  Business   \n",
       "3  2016-01-05   17:31:00  2016-01-05  17:45:00      1  2016.0  Business   \n",
       "4  2016-01-06   14:42:00  2016-01-06  15:49:00      1  2016.0  Business   \n",
       "5  2016-01-06   17:15:00  2016-01-06  17:19:00      1  2016.0  Business   \n",
       "6  2016-01-06   17:30:00  2016-01-06  17:35:00      1  2016.0  Business   \n",
       "7  2016-01-07   13:27:00  2016-01-07  13:33:00      1  2016.0  Business   \n",
       "8  2016-01-10   08:05:00  2016-01-10  08:25:00      1  2016.0  Business   \n",
       "9  2016-01-10   12:17:00  2016-01-10  12:44:00      1  2016.0  Business   \n",
       "\n",
       "             START             STOP  MILES          PURPOSE  \n",
       "0      Fort Pierce      Fort Pierce    5.1   Meal/Entertain  \n",
       "1      Fort Pierce      Fort Pierce    5.0   Meal/Entertain  \n",
       "2      Fort Pierce      Fort Pierce    4.8  Errand/Supplies  \n",
       "3      Fort Pierce      Fort Pierce    4.7          Meeting  \n",
       "4      Fort Pierce  West Palm Beach   63.7   Customer Visit  \n",
       "5  West Palm Beach  West Palm Beach    4.3   Meal/Entertain  \n",
       "6  West Palm Beach       Palm Beach    7.1          Meeting  \n",
       "7             Cary             Cary    0.8          Meeting  \n",
       "8             Cary      Morrisville    8.3          Meeting  \n",
       "9          Jamaica         New York   16.5   Customer Visit  "
      ]
     },
     "execution_count": 74,
     "metadata": {},
     "output_type": "execute_result"
    }
   ],
   "source": [
    "uber.head(10)"
   ]
  },
  {
   "cell_type": "code",
   "execution_count": 75,
   "metadata": {},
   "outputs": [
    {
     "data": {
      "text/plain": [
       "np.int64(1155)"
      ]
     },
     "execution_count": 75,
     "metadata": {},
     "output_type": "execute_result"
    }
   ],
   "source": [
    "uber.month.count()"
   ]
  },
  {
   "cell_type": "code",
   "execution_count": 76,
   "metadata": {},
   "outputs": [
    {
     "data": {
      "text/plain": [
       "month\n",
       "11    797\n",
       "8      43\n",
       "6      42\n",
       "3      42\n",
       "7      41\n",
       "2      40\n",
       "12     39\n",
       "5      26\n",
       "4      25\n",
       "10     24\n",
       "1      23\n",
       "9      13\n",
       "Name: count, dtype: int64"
      ]
     },
     "execution_count": 76,
     "metadata": {},
     "output_type": "execute_result"
    }
   ],
   "source": [
    "uber.month.value_counts()"
   ]
  },
  {
   "cell_type": "markdown",
   "metadata": {},
   "source": [
    "### convert year to integer\n"
   ]
  },
  {
   "cell_type": "code",
   "execution_count": 77,
   "metadata": {},
   "outputs": [],
   "source": [
    "uber['year'] = uber['year'].fillna(uber['year'].mode()[0])\n",
    "uber['year'] = uber['year'].astype(int)"
   ]
  },
  {
   "cell_type": "code",
   "execution_count": 78,
   "metadata": {},
   "outputs": [
    {
     "data": {
      "text/html": [
       "<div>\n",
       "<style scoped>\n",
       "    .dataframe tbody tr th:only-of-type {\n",
       "        vertical-align: middle;\n",
       "    }\n",
       "\n",
       "    .dataframe tbody tr th {\n",
       "        vertical-align: top;\n",
       "    }\n",
       "\n",
       "    .dataframe thead th {\n",
       "        text-align: right;\n",
       "    }\n",
       "</style>\n",
       "<table border=\"1\" class=\"dataframe\">\n",
       "  <thead>\n",
       "    <tr style=\"text-align: right;\">\n",
       "      <th></th>\n",
       "      <th>start_date</th>\n",
       "      <th>start_time</th>\n",
       "      <th>end_date</th>\n",
       "      <th>end_time</th>\n",
       "      <th>month</th>\n",
       "      <th>year</th>\n",
       "      <th>CATEGORY</th>\n",
       "      <th>START</th>\n",
       "      <th>STOP</th>\n",
       "      <th>MILES</th>\n",
       "      <th>PURPOSE</th>\n",
       "    </tr>\n",
       "  </thead>\n",
       "  <tbody>\n",
       "    <tr>\n",
       "      <th>0</th>\n",
       "      <td>2016-01-01</td>\n",
       "      <td>21:11:00</td>\n",
       "      <td>2016-01-01</td>\n",
       "      <td>21:17:00</td>\n",
       "      <td>1</td>\n",
       "      <td>2016</td>\n",
       "      <td>Business</td>\n",
       "      <td>Fort Pierce</td>\n",
       "      <td>Fort Pierce</td>\n",
       "      <td>5.1</td>\n",
       "      <td>Meal/Entertain</td>\n",
       "    </tr>\n",
       "    <tr>\n",
       "      <th>1</th>\n",
       "      <td>2016-01-02</td>\n",
       "      <td>01:25:00</td>\n",
       "      <td>2016-01-02</td>\n",
       "      <td>01:37:00</td>\n",
       "      <td>1</td>\n",
       "      <td>2016</td>\n",
       "      <td>Business</td>\n",
       "      <td>Fort Pierce</td>\n",
       "      <td>Fort Pierce</td>\n",
       "      <td>5.0</td>\n",
       "      <td>Meal/Entertain</td>\n",
       "    </tr>\n",
       "    <tr>\n",
       "      <th>2</th>\n",
       "      <td>2016-01-02</td>\n",
       "      <td>20:25:00</td>\n",
       "      <td>2016-01-02</td>\n",
       "      <td>20:38:00</td>\n",
       "      <td>1</td>\n",
       "      <td>2016</td>\n",
       "      <td>Business</td>\n",
       "      <td>Fort Pierce</td>\n",
       "      <td>Fort Pierce</td>\n",
       "      <td>4.8</td>\n",
       "      <td>Errand/Supplies</td>\n",
       "    </tr>\n",
       "    <tr>\n",
       "      <th>3</th>\n",
       "      <td>2016-01-05</td>\n",
       "      <td>17:31:00</td>\n",
       "      <td>2016-01-05</td>\n",
       "      <td>17:45:00</td>\n",
       "      <td>1</td>\n",
       "      <td>2016</td>\n",
       "      <td>Business</td>\n",
       "      <td>Fort Pierce</td>\n",
       "      <td>Fort Pierce</td>\n",
       "      <td>4.7</td>\n",
       "      <td>Meeting</td>\n",
       "    </tr>\n",
       "    <tr>\n",
       "      <th>4</th>\n",
       "      <td>2016-01-06</td>\n",
       "      <td>14:42:00</td>\n",
       "      <td>2016-01-06</td>\n",
       "      <td>15:49:00</td>\n",
       "      <td>1</td>\n",
       "      <td>2016</td>\n",
       "      <td>Business</td>\n",
       "      <td>Fort Pierce</td>\n",
       "      <td>West Palm Beach</td>\n",
       "      <td>63.7</td>\n",
       "      <td>Customer Visit</td>\n",
       "    </tr>\n",
       "  </tbody>\n",
       "</table>\n",
       "</div>"
      ],
      "text/plain": [
       "   start_date start_time    end_date  end_time  month  year  CATEGORY  \\\n",
       "0  2016-01-01   21:11:00  2016-01-01  21:17:00      1  2016  Business   \n",
       "1  2016-01-02   01:25:00  2016-01-02  01:37:00      1  2016  Business   \n",
       "2  2016-01-02   20:25:00  2016-01-02  20:38:00      1  2016  Business   \n",
       "3  2016-01-05   17:31:00  2016-01-05  17:45:00      1  2016  Business   \n",
       "4  2016-01-06   14:42:00  2016-01-06  15:49:00      1  2016  Business   \n",
       "\n",
       "         START             STOP  MILES          PURPOSE  \n",
       "0  Fort Pierce      Fort Pierce    5.1   Meal/Entertain  \n",
       "1  Fort Pierce      Fort Pierce    5.0   Meal/Entertain  \n",
       "2  Fort Pierce      Fort Pierce    4.8  Errand/Supplies  \n",
       "3  Fort Pierce      Fort Pierce    4.7          Meeting  \n",
       "4  Fort Pierce  West Palm Beach   63.7   Customer Visit  "
      ]
     },
     "execution_count": 78,
     "metadata": {},
     "output_type": "execute_result"
    }
   ],
   "source": [
    "uber.head()"
   ]
  },
  {
   "cell_type": "code",
   "execution_count": 79,
   "metadata": {},
   "outputs": [],
   "source": [
    "# convert start_time and end_time to hours and minutes\n",
    "uber['start_hour'] = uber['start_time'].apply(lambda x: x.hour)\n",
    "uber['start_minute'] = uber['start_time'].apply(lambda x: x.minute)\n",
    "uber['end_hour'] = uber['end_time'].apply(lambda x: x.hour)\n",
    "uber['end_minute'] = uber['end_time'].apply(lambda x: x.minute)"
   ]
  },
  {
   "cell_type": "code",
   "execution_count": 80,
   "metadata": {},
   "outputs": [],
   "source": [
    "# rearrange the columns and drop start_time and end_time columns\n",
    "uber = uber[['start_date','start_hour','start_minute','end_date','end_hour','end_minute','month','year','CATEGORY','START','STOP','MILES','PURPOSE']]\n"
   ]
  },
  {
   "cell_type": "code",
   "execution_count": 81,
   "metadata": {},
   "outputs": [],
   "source": [
    "# create a new column for duration of the trip to be in minutes\n",
    "uber['duration'] = uber['end_hour']*60 + uber['end_minute'] - (uber['start_hour']*60 + uber['start_minute'])"
   ]
  },
  {
   "cell_type": "code",
   "execution_count": 82,
   "metadata": {},
   "outputs": [],
   "source": [
    "# convert miles to km\n",
    "uber['MILES'] = uber['MILES']*1.60934\n",
    "#calculate speed\n",
    "uber['speed'] = uber['MILES']/(uber['duration']/60)"
   ]
  },
  {
   "cell_type": "code",
   "execution_count": 83,
   "metadata": {},
   "outputs": [
    {
     "data": {
      "text/html": [
       "<div>\n",
       "<style scoped>\n",
       "    .dataframe tbody tr th:only-of-type {\n",
       "        vertical-align: middle;\n",
       "    }\n",
       "\n",
       "    .dataframe tbody tr th {\n",
       "        vertical-align: top;\n",
       "    }\n",
       "\n",
       "    .dataframe thead th {\n",
       "        text-align: right;\n",
       "    }\n",
       "</style>\n",
       "<table border=\"1\" class=\"dataframe\">\n",
       "  <thead>\n",
       "    <tr style=\"text-align: right;\">\n",
       "      <th></th>\n",
       "      <th>start_date</th>\n",
       "      <th>start_hour</th>\n",
       "      <th>start_minute</th>\n",
       "      <th>end_date</th>\n",
       "      <th>end_hour</th>\n",
       "      <th>end_minute</th>\n",
       "      <th>month</th>\n",
       "      <th>year</th>\n",
       "      <th>CATEGORY</th>\n",
       "      <th>START</th>\n",
       "      <th>STOP</th>\n",
       "      <th>MILES</th>\n",
       "      <th>PURPOSE</th>\n",
       "      <th>duration</th>\n",
       "      <th>speed</th>\n",
       "    </tr>\n",
       "  </thead>\n",
       "  <tbody>\n",
       "    <tr>\n",
       "      <th>0</th>\n",
       "      <td>2016-01-01</td>\n",
       "      <td>21.0</td>\n",
       "      <td>11.0</td>\n",
       "      <td>2016-01-01</td>\n",
       "      <td>21.0</td>\n",
       "      <td>17.0</td>\n",
       "      <td>1</td>\n",
       "      <td>2016</td>\n",
       "      <td>Business</td>\n",
       "      <td>Fort Pierce</td>\n",
       "      <td>Fort Pierce</td>\n",
       "      <td>8.207634</td>\n",
       "      <td>Meal/Entertain</td>\n",
       "      <td>6.0</td>\n",
       "      <td>82.076340</td>\n",
       "    </tr>\n",
       "    <tr>\n",
       "      <th>1</th>\n",
       "      <td>2016-01-02</td>\n",
       "      <td>1.0</td>\n",
       "      <td>25.0</td>\n",
       "      <td>2016-01-02</td>\n",
       "      <td>1.0</td>\n",
       "      <td>37.0</td>\n",
       "      <td>1</td>\n",
       "      <td>2016</td>\n",
       "      <td>Business</td>\n",
       "      <td>Fort Pierce</td>\n",
       "      <td>Fort Pierce</td>\n",
       "      <td>8.046700</td>\n",
       "      <td>Meal/Entertain</td>\n",
       "      <td>12.0</td>\n",
       "      <td>40.233500</td>\n",
       "    </tr>\n",
       "    <tr>\n",
       "      <th>2</th>\n",
       "      <td>2016-01-02</td>\n",
       "      <td>20.0</td>\n",
       "      <td>25.0</td>\n",
       "      <td>2016-01-02</td>\n",
       "      <td>20.0</td>\n",
       "      <td>38.0</td>\n",
       "      <td>1</td>\n",
       "      <td>2016</td>\n",
       "      <td>Business</td>\n",
       "      <td>Fort Pierce</td>\n",
       "      <td>Fort Pierce</td>\n",
       "      <td>7.724832</td>\n",
       "      <td>Errand/Supplies</td>\n",
       "      <td>13.0</td>\n",
       "      <td>35.653071</td>\n",
       "    </tr>\n",
       "    <tr>\n",
       "      <th>3</th>\n",
       "      <td>2016-01-05</td>\n",
       "      <td>17.0</td>\n",
       "      <td>31.0</td>\n",
       "      <td>2016-01-05</td>\n",
       "      <td>17.0</td>\n",
       "      <td>45.0</td>\n",
       "      <td>1</td>\n",
       "      <td>2016</td>\n",
       "      <td>Business</td>\n",
       "      <td>Fort Pierce</td>\n",
       "      <td>Fort Pierce</td>\n",
       "      <td>7.563898</td>\n",
       "      <td>Meeting</td>\n",
       "      <td>14.0</td>\n",
       "      <td>32.416706</td>\n",
       "    </tr>\n",
       "    <tr>\n",
       "      <th>4</th>\n",
       "      <td>2016-01-06</td>\n",
       "      <td>14.0</td>\n",
       "      <td>42.0</td>\n",
       "      <td>2016-01-06</td>\n",
       "      <td>15.0</td>\n",
       "      <td>49.0</td>\n",
       "      <td>1</td>\n",
       "      <td>2016</td>\n",
       "      <td>Business</td>\n",
       "      <td>Fort Pierce</td>\n",
       "      <td>West Palm Beach</td>\n",
       "      <td>102.514958</td>\n",
       "      <td>Customer Visit</td>\n",
       "      <td>67.0</td>\n",
       "      <td>91.804440</td>\n",
       "    </tr>\n",
       "  </tbody>\n",
       "</table>\n",
       "</div>"
      ],
      "text/plain": [
       "   start_date  start_hour  start_minute    end_date  end_hour  end_minute  \\\n",
       "0  2016-01-01        21.0          11.0  2016-01-01      21.0        17.0   \n",
       "1  2016-01-02         1.0          25.0  2016-01-02       1.0        37.0   \n",
       "2  2016-01-02        20.0          25.0  2016-01-02      20.0        38.0   \n",
       "3  2016-01-05        17.0          31.0  2016-01-05      17.0        45.0   \n",
       "4  2016-01-06        14.0          42.0  2016-01-06      15.0        49.0   \n",
       "\n",
       "   month  year  CATEGORY        START             STOP       MILES  \\\n",
       "0      1  2016  Business  Fort Pierce      Fort Pierce    8.207634   \n",
       "1      1  2016  Business  Fort Pierce      Fort Pierce    8.046700   \n",
       "2      1  2016  Business  Fort Pierce      Fort Pierce    7.724832   \n",
       "3      1  2016  Business  Fort Pierce      Fort Pierce    7.563898   \n",
       "4      1  2016  Business  Fort Pierce  West Palm Beach  102.514958   \n",
       "\n",
       "           PURPOSE  duration      speed  \n",
       "0   Meal/Entertain       6.0  82.076340  \n",
       "1   Meal/Entertain      12.0  40.233500  \n",
       "2  Errand/Supplies      13.0  35.653071  \n",
       "3          Meeting      14.0  32.416706  \n",
       "4   Customer Visit      67.0  91.804440  "
      ]
     },
     "execution_count": 83,
     "metadata": {},
     "output_type": "execute_result"
    }
   ],
   "source": [
    "uber.head(5)"
   ]
  },
  {
   "cell_type": "code",
   "execution_count": 84,
   "metadata": {},
   "outputs": [
    {
     "name": "stderr",
     "output_type": "stream",
     "text": [
      "C:\\Users\\91983\\AppData\\Roaming\\Python\\Python312\\site-packages\\pandas\\core\\nanops.py:1016: RuntimeWarning: invalid value encountered in subtract\n",
      "  sqr = _ensure_numeric((avg - values) ** 2)\n"
     ]
    },
    {
     "data": {
      "text/html": [
       "<div>\n",
       "<style scoped>\n",
       "    .dataframe tbody tr th:only-of-type {\n",
       "        vertical-align: middle;\n",
       "    }\n",
       "\n",
       "    .dataframe tbody tr th {\n",
       "        vertical-align: top;\n",
       "    }\n",
       "\n",
       "    .dataframe thead th {\n",
       "        text-align: right;\n",
       "    }\n",
       "</style>\n",
       "<table border=\"1\" class=\"dataframe\">\n",
       "  <thead>\n",
       "    <tr style=\"text-align: right;\">\n",
       "      <th></th>\n",
       "      <th>start_hour</th>\n",
       "      <th>start_minute</th>\n",
       "      <th>end_hour</th>\n",
       "      <th>end_minute</th>\n",
       "      <th>month</th>\n",
       "      <th>year</th>\n",
       "      <th>MILES</th>\n",
       "      <th>duration</th>\n",
       "      <th>speed</th>\n",
       "    </tr>\n",
       "  </thead>\n",
       "  <tbody>\n",
       "    <tr>\n",
       "      <th>count</th>\n",
       "      <td>421.000000</td>\n",
       "      <td>421.000000</td>\n",
       "      <td>420.000000</td>\n",
       "      <td>420.000000</td>\n",
       "      <td>1155.000000</td>\n",
       "      <td>1155.0</td>\n",
       "      <td>1155.000000</td>\n",
       "      <td>420.000000</td>\n",
       "      <td>420.000000</td>\n",
       "    </tr>\n",
       "    <tr>\n",
       "      <th>mean</th>\n",
       "      <td>14.988124</td>\n",
       "      <td>29.741093</td>\n",
       "      <td>14.857143</td>\n",
       "      <td>28.311905</td>\n",
       "      <td>9.466667</td>\n",
       "      <td>2016.0</td>\n",
       "      <td>33.997482</td>\n",
       "      <td>-8.102381</td>\n",
       "      <td>inf</td>\n",
       "    </tr>\n",
       "    <tr>\n",
       "      <th>std</th>\n",
       "      <td>4.668777</td>\n",
       "      <td>17.446843</td>\n",
       "      <td>4.957920</td>\n",
       "      <td>17.673662</td>\n",
       "      <td>2.926226</td>\n",
       "      <td>0.0</td>\n",
       "      <td>578.484501</td>\n",
       "      <td>195.917306</td>\n",
       "      <td>NaN</td>\n",
       "    </tr>\n",
       "    <tr>\n",
       "      <th>min</th>\n",
       "      <td>0.000000</td>\n",
       "      <td>0.000000</td>\n",
       "      <td>0.000000</td>\n",
       "      <td>0.000000</td>\n",
       "      <td>1.000000</td>\n",
       "      <td>2016.0</td>\n",
       "      <td>0.804670</td>\n",
       "      <td>-1432.000000</td>\n",
       "      <td>-10.720661</td>\n",
       "    </tr>\n",
       "    <tr>\n",
       "      <th>25%</th>\n",
       "      <td>12.000000</td>\n",
       "      <td>15.000000</td>\n",
       "      <td>12.000000</td>\n",
       "      <td>13.000000</td>\n",
       "      <td>9.000000</td>\n",
       "      <td>2016.0</td>\n",
       "      <td>4.667086</td>\n",
       "      <td>9.000000</td>\n",
       "      <td>24.098479</td>\n",
       "    </tr>\n",
       "    <tr>\n",
       "      <th>50%</th>\n",
       "      <td>15.000000</td>\n",
       "      <td>30.000000</td>\n",
       "      <td>15.000000</td>\n",
       "      <td>27.000000</td>\n",
       "      <td>11.000000</td>\n",
       "      <td>2016.0</td>\n",
       "      <td>9.656040</td>\n",
       "      <td>15.000000</td>\n",
       "      <td>33.357229</td>\n",
       "    </tr>\n",
       "    <tr>\n",
       "      <th>75%</th>\n",
       "      <td>18.000000</td>\n",
       "      <td>46.000000</td>\n",
       "      <td>18.000000</td>\n",
       "      <td>44.000000</td>\n",
       "      <td>11.000000</td>\n",
       "      <td>2016.0</td>\n",
       "      <td>16.737136</td>\n",
       "      <td>22.000000</td>\n",
       "      <td>45.312979</td>\n",
       "    </tr>\n",
       "    <tr>\n",
       "      <th>max</th>\n",
       "      <td>23.000000</td>\n",
       "      <td>59.000000</td>\n",
       "      <td>23.000000</td>\n",
       "      <td>59.000000</td>\n",
       "      <td>12.000000</td>\n",
       "      <td>2016.0</td>\n",
       "      <td>19641.511898</td>\n",
       "      <td>178.000000</td>\n",
       "      <td>inf</td>\n",
       "    </tr>\n",
       "  </tbody>\n",
       "</table>\n",
       "</div>"
      ],
      "text/plain": [
       "       start_hour  start_minute    end_hour  end_minute        month    year  \\\n",
       "count  421.000000    421.000000  420.000000  420.000000  1155.000000  1155.0   \n",
       "mean    14.988124     29.741093   14.857143   28.311905     9.466667  2016.0   \n",
       "std      4.668777     17.446843    4.957920   17.673662     2.926226     0.0   \n",
       "min      0.000000      0.000000    0.000000    0.000000     1.000000  2016.0   \n",
       "25%     12.000000     15.000000   12.000000   13.000000     9.000000  2016.0   \n",
       "50%     15.000000     30.000000   15.000000   27.000000    11.000000  2016.0   \n",
       "75%     18.000000     46.000000   18.000000   44.000000    11.000000  2016.0   \n",
       "max     23.000000     59.000000   23.000000   59.000000    12.000000  2016.0   \n",
       "\n",
       "              MILES     duration       speed  \n",
       "count   1155.000000   420.000000  420.000000  \n",
       "mean      33.997482    -8.102381         inf  \n",
       "std      578.484501   195.917306         NaN  \n",
       "min        0.804670 -1432.000000  -10.720661  \n",
       "25%        4.667086     9.000000   24.098479  \n",
       "50%        9.656040    15.000000   33.357229  \n",
       "75%       16.737136    22.000000   45.312979  \n",
       "max    19641.511898   178.000000         inf  "
      ]
     },
     "execution_count": 84,
     "metadata": {},
     "output_type": "execute_result"
    }
   ],
   "source": [
    "uber.describe()"
   ]
  },
  {
   "cell_type": "markdown",
   "metadata": {},
   "source": [
    "## found problem in speed that have negative value"
   ]
  },
  {
   "cell_type": "code",
   "execution_count": 85,
   "metadata": {},
   "outputs": [
    {
     "data": {
      "text/html": [
       "<div>\n",
       "<style scoped>\n",
       "    .dataframe tbody tr th:only-of-type {\n",
       "        vertical-align: middle;\n",
       "    }\n",
       "\n",
       "    .dataframe tbody tr th {\n",
       "        vertical-align: top;\n",
       "    }\n",
       "\n",
       "    .dataframe thead th {\n",
       "        text-align: right;\n",
       "    }\n",
       "</style>\n",
       "<table border=\"1\" class=\"dataframe\">\n",
       "  <thead>\n",
       "    <tr style=\"text-align: right;\">\n",
       "      <th></th>\n",
       "      <th>start_date</th>\n",
       "      <th>start_hour</th>\n",
       "      <th>start_minute</th>\n",
       "      <th>end_date</th>\n",
       "      <th>end_hour</th>\n",
       "      <th>end_minute</th>\n",
       "      <th>month</th>\n",
       "      <th>year</th>\n",
       "      <th>CATEGORY</th>\n",
       "      <th>START</th>\n",
       "      <th>STOP</th>\n",
       "      <th>MILES</th>\n",
       "      <th>PURPOSE</th>\n",
       "      <th>duration</th>\n",
       "      <th>speed</th>\n",
       "    </tr>\n",
       "  </thead>\n",
       "  <tbody>\n",
       "    <tr>\n",
       "      <th>298</th>\n",
       "      <td>2016-04-02</td>\n",
       "      <td>23.0</td>\n",
       "      <td>11.0</td>\n",
       "      <td>2016-04-03</td>\n",
       "      <td>1.0</td>\n",
       "      <td>34.0</td>\n",
       "      <td>4</td>\n",
       "      <td>2016</td>\n",
       "      <td>Business</td>\n",
       "      <td>Ridgeland</td>\n",
       "      <td>Florence</td>\n",
       "      <td>231.744960</td>\n",
       "      <td>Meeting</td>\n",
       "      <td>-1297.0</td>\n",
       "      <td>-10.720661</td>\n",
       "    </tr>\n",
       "    <tr>\n",
       "      <th>357</th>\n",
       "      <td>2016-05-05</td>\n",
       "      <td>23.0</td>\n",
       "      <td>55.0</td>\n",
       "      <td>2016-05-06</td>\n",
       "      <td>0.0</td>\n",
       "      <td>8.0</td>\n",
       "      <td>5</td>\n",
       "      <td>2016</td>\n",
       "      <td>Business</td>\n",
       "      <td>Bellevue</td>\n",
       "      <td>Seattle</td>\n",
       "      <td>20.760486</td>\n",
       "      <td>Meeting</td>\n",
       "      <td>-1427.0</td>\n",
       "      <td>-0.872901</td>\n",
       "    </tr>\n",
       "    <tr>\n",
       "      <th>406</th>\n",
       "      <td>2016-06-05</td>\n",
       "      <td>23.0</td>\n",
       "      <td>52.0</td>\n",
       "      <td>2016-06-06</td>\n",
       "      <td>0.0</td>\n",
       "      <td>8.0</td>\n",
       "      <td>6</td>\n",
       "      <td>2016</td>\n",
       "      <td>Business</td>\n",
       "      <td>Durham</td>\n",
       "      <td>Cary</td>\n",
       "      <td>15.932466</td>\n",
       "      <td>Meeting</td>\n",
       "      <td>-1424.0</td>\n",
       "      <td>-0.671312</td>\n",
       "    </tr>\n",
       "    <tr>\n",
       "      <th>414</th>\n",
       "      <td>2016-06-07</td>\n",
       "      <td>23.0</td>\n",
       "      <td>41.0</td>\n",
       "      <td>2016-06-08</td>\n",
       "      <td>0.0</td>\n",
       "      <td>4.0</td>\n",
       "      <td>6</td>\n",
       "      <td>2016</td>\n",
       "      <td>Business</td>\n",
       "      <td>Durham</td>\n",
       "      <td>Cary</td>\n",
       "      <td>15.932466</td>\n",
       "      <td>Meeting</td>\n",
       "      <td>-1417.0</td>\n",
       "      <td>-0.674628</td>\n",
       "    </tr>\n",
       "    <tr>\n",
       "      <th>425</th>\n",
       "      <td>2016-06-10</td>\n",
       "      <td>23.0</td>\n",
       "      <td>53.0</td>\n",
       "      <td>2016-06-11</td>\n",
       "      <td>0.0</td>\n",
       "      <td>1.0</td>\n",
       "      <td>6</td>\n",
       "      <td>2016</td>\n",
       "      <td>Business</td>\n",
       "      <td>Durham</td>\n",
       "      <td>Cary</td>\n",
       "      <td>15.932466</td>\n",
       "      <td>Meeting</td>\n",
       "      <td>-1432.0</td>\n",
       "      <td>-0.667561</td>\n",
       "    </tr>\n",
       "    <tr>\n",
       "      <th>430</th>\n",
       "      <td>2016-06-11</td>\n",
       "      <td>23.0</td>\n",
       "      <td>39.0</td>\n",
       "      <td>2016-06-12</td>\n",
       "      <td>0.0</td>\n",
       "      <td>5.0</td>\n",
       "      <td>6</td>\n",
       "      <td>2016</td>\n",
       "      <td>Business</td>\n",
       "      <td>Durham</td>\n",
       "      <td>Cary</td>\n",
       "      <td>15.932466</td>\n",
       "      <td>Meeting</td>\n",
       "      <td>-1414.0</td>\n",
       "      <td>-0.676059</td>\n",
       "    </tr>\n",
       "    <tr>\n",
       "      <th>504</th>\n",
       "      <td>2016-07-01</td>\n",
       "      <td>23.0</td>\n",
       "      <td>48.0</td>\n",
       "      <td>2016-07-02</td>\n",
       "      <td>0.0</td>\n",
       "      <td>9.0</td>\n",
       "      <td>7</td>\n",
       "      <td>2016</td>\n",
       "      <td>Business</td>\n",
       "      <td>Durham</td>\n",
       "      <td>Cary</td>\n",
       "      <td>15.932466</td>\n",
       "      <td>Meeting</td>\n",
       "      <td>-1419.0</td>\n",
       "      <td>-0.673677</td>\n",
       "    </tr>\n",
       "    <tr>\n",
       "      <th>506</th>\n",
       "      <td>2016-07-02</td>\n",
       "      <td>23.0</td>\n",
       "      <td>48.0</td>\n",
       "      <td>2016-07-03</td>\n",
       "      <td>0.0</td>\n",
       "      <td>12.0</td>\n",
       "      <td>7</td>\n",
       "      <td>2016</td>\n",
       "      <td>Business</td>\n",
       "      <td>Durham</td>\n",
       "      <td>Cary</td>\n",
       "      <td>15.932466</td>\n",
       "      <td>Meeting</td>\n",
       "      <td>-1416.0</td>\n",
       "      <td>-0.675104</td>\n",
       "    </tr>\n",
       "  </tbody>\n",
       "</table>\n",
       "</div>"
      ],
      "text/plain": [
       "     start_date  start_hour  start_minute    end_date  end_hour  end_minute  \\\n",
       "298  2016-04-02        23.0          11.0  2016-04-03       1.0        34.0   \n",
       "357  2016-05-05        23.0          55.0  2016-05-06       0.0         8.0   \n",
       "406  2016-06-05        23.0          52.0  2016-06-06       0.0         8.0   \n",
       "414  2016-06-07        23.0          41.0  2016-06-08       0.0         4.0   \n",
       "425  2016-06-10        23.0          53.0  2016-06-11       0.0         1.0   \n",
       "430  2016-06-11        23.0          39.0  2016-06-12       0.0         5.0   \n",
       "504  2016-07-01        23.0          48.0  2016-07-02       0.0         9.0   \n",
       "506  2016-07-02        23.0          48.0  2016-07-03       0.0        12.0   \n",
       "\n",
       "     month  year  CATEGORY      START      STOP       MILES  PURPOSE  \\\n",
       "298      4  2016  Business  Ridgeland  Florence  231.744960  Meeting   \n",
       "357      5  2016  Business   Bellevue   Seattle   20.760486  Meeting   \n",
       "406      6  2016  Business     Durham      Cary   15.932466  Meeting   \n",
       "414      6  2016  Business     Durham      Cary   15.932466  Meeting   \n",
       "425      6  2016  Business     Durham      Cary   15.932466  Meeting   \n",
       "430      6  2016  Business     Durham      Cary   15.932466  Meeting   \n",
       "504      7  2016  Business     Durham      Cary   15.932466  Meeting   \n",
       "506      7  2016  Business     Durham      Cary   15.932466  Meeting   \n",
       "\n",
       "     duration      speed  \n",
       "298   -1297.0 -10.720661  \n",
       "357   -1427.0  -0.872901  \n",
       "406   -1424.0  -0.671312  \n",
       "414   -1417.0  -0.674628  \n",
       "425   -1432.0  -0.667561  \n",
       "430   -1414.0  -0.676059  \n",
       "504   -1419.0  -0.673677  \n",
       "506   -1416.0  -0.675104  "
      ]
     },
     "execution_count": 85,
     "metadata": {},
     "output_type": "execute_result"
    }
   ],
   "source": [
    "uber[uber['speed'] < 0]"
   ]
  },
  {
   "cell_type": "code",
   "execution_count": 86,
   "metadata": {},
   "outputs": [
    {
     "data": {
      "text/plain": [
       "np.int64(8)"
      ]
     },
     "execution_count": 86,
     "metadata": {},
     "output_type": "execute_result"
    }
   ],
   "source": [
    "uber['speed'].lt(0).sum()"
   ]
  },
  {
   "cell_type": "code",
   "execution_count": 87,
   "metadata": {},
   "outputs": [],
   "source": [
    "uber = uber[uber['speed'] >= 0]"
   ]
  },
  {
   "cell_type": "code",
   "execution_count": 88,
   "metadata": {},
   "outputs": [
    {
     "name": "stdout",
     "output_type": "stream",
     "text": [
      "Negative speed count: 0\n"
     ]
    }
   ],
   "source": [
    "print(\"Negative speed count:\", uber['speed'].lt(0).sum())  # Should be 0"
   ]
  },
  {
   "cell_type": "code",
   "execution_count": 89,
   "metadata": {},
   "outputs": [
    {
     "data": {
      "text/plain": [
       "np.float64(10.192486666666667)"
      ]
     },
     "execution_count": 89,
     "metadata": {},
     "output_type": "execute_result"
    }
   ],
   "source": [
    "uber.speed.min()"
   ]
  },
  {
   "cell_type": "markdown",
   "metadata": {},
   "source": [
    "### Visualizing the data"
   ]
  },
  {
   "cell_type": "code",
   "execution_count": 90,
   "metadata": {},
   "outputs": [
    {
     "data": {
      "image/png": "[encoded data removed]",
      "text/plain": [
       "<Figure size 1200x600 with 2 Axes>"
      ]
     },
     "metadata": {},
     "output_type": "display_data"
    }
   ],
   "source": [
    "plt.figure(figsize=(12, 6))\n",
    "sns.heatmap(\n",
    "    uber.select_dtypes(include=['number']).corr(),\n",
    "    cmap='Blues',\n",
    "    fmt='.2f',\n",
    "    linewidths=2,\n",
    "    annot=True\n",
    ")\n",
    "plt.title(\"Correlation Heatmap of Numerical Features\")\n",
    "plt.show()"
   ]
  },
  {
   "cell_type": "code",
   "execution_count": 91,
   "metadata": {},
   "outputs": [
    {
     "data": {
      "text/plain": [
       "year\n",
       "2016    412\n",
       "Name: count, dtype: int64"
      ]
     },
     "execution_count": 91,
     "metadata": {},
     "output_type": "execute_result"
    }
   ],
   "source": [
    "uber['year'].value_counts(dropna=False)"
   ]
  },
  {
   "cell_type": "markdown",
   "metadata": {},
   "source": [
    "It means that all 412 records in the dataset have year = 2016, and no other year is present. Its variance is zero, so:\n",
    "\n",
    "- Correlation with any other column is mathematically undefined\n",
    "\n",
    "- pandas returns NaN for all correlations involving year\n",
    "\n",
    "- It won't show meaningful results in your correlation heatmap\n",
    "\n",
    "So, We can drop it for correlation"
   ]
  },
  {
   "cell_type": "code",
   "execution_count": 92,
   "metadata": {},
   "outputs": [],
   "source": [
    "uber.drop(columns=['year'], inplace=True)"
   ]
  },
  {
   "cell_type": "code",
   "execution_count": 93,
   "metadata": {},
   "outputs": [
    {
     "data": {
      "image/png": "[encoded data removed]",
      "text/plain": [
       "<Figure size 1200x600 with 2 Axes>"
      ]
     },
     "metadata": {},
     "output_type": "display_data"
    }
   ],
   "source": [
    "plt.figure(figsize=(12, 6))\n",
    "sns.heatmap(\n",
    "    uber.select_dtypes(include=['number']).corr(),\n",
    "    cmap='coolwarm',\n",
    "    fmt='.2f',\n",
    "    linewidths=2,\n",
    "    annot=True\n",
    ")\n",
    "plt.title(\"Correlation Heatmap of Numerical Features\")\n",
    "plt.show()"
   ]
  },
  {
   "cell_type": "markdown",
   "metadata": {},
   "source": [
    "## Correlation Heatmap Insights\n",
    "\n",
    "This heatmap visualizes the Pearson correlation coefficients between all numerical features in the Uber dataset.\n",
    "\n",
    "####  Strong Positive Correlations:\n",
    "- **`start_hour` ↔ `end_hour`** → `0.99`: Very strong positive correlation, which makes sense as most rides start and end within the same hour block.\n",
    "- **`MILES` ↔ `duration`** → `0.71`: Longer distances generally take more time, showing a strong linear relationship.\n",
    "\n",
    "####  Moderate Correlations:\n",
    "- **`MILES` ↔ `speed`** → `0.25`: Weak-to-moderate positive correlation; higher speeds may be associated with longer routes (like highways).\n",
    "\n",
    "####  Weak or No Correlation:\n",
    "- Most time-related minute columns (`start_minute`, `end_minute`) and `month` show very low or no correlation with `speed`, `duration`, or `MILES`.\n",
    "- **`duration` ↔ `speed`** → `–0.07`: Slight negative correlation — longer durations may happen in traffic conditions with lower speed.\n",
    "\n",
    "####  Column Exclusions:\n",
    "- **`year` was dropped** from this analysis because it had no variance (all values were `2016`), which results in undefined correlation values.\n",
    "\n",
    "#### Conclusion:\n",
    "The features `MILES`, `duration`, and `speed` carry meaningful information for further modeling or visualization. `start_hour` and `end_hour` may also be valuable for time-based analysis. Columns like `start_minute`, `end_minute`, and `month` have limited correlation impact."
   ]
  },
  {
   "cell_type": "code",
   "execution_count": 94,
   "metadata": {},
   "outputs": [
    {
     "data": {
      "image/png": "[encoded data removed]",
      "text/plain": [
       "<Figure size 640x480 with 1 Axes>"
      ]
     },
     "metadata": {},
     "output_type": "display_data"
    }
   ],
   "source": [
    "# Count the occurrences of each category / meaningful bar chart that shows the distribution of ride categories\n",
    "category_counts = uber['CATEGORY'].value_counts()\n",
    "\n",
    "# Create a bar plot\n",
    "plt.bar(category_counts.index, category_counts.values)\n",
    "plt.xlabel('Category')\n",
    "plt.ylabel('Number of Trips')\n",
    "plt.title('Distribution of Trip Categories')\n",
    "plt.xticks(rotation=30)\n",
    "\n",
    "for i, value in enumerate(category_counts.values):\n",
    "    plt.text(i, value + 1, str(value), ha='center')\n",
    "\n",
    "plt.tight_layout()\n",
    "plt.show()"
   ]
  },
  {
   "cell_type": "markdown",
   "metadata": {},
   "source": [
    "## Distribution of Trip Categories\n",
    "\n",
    "The bar chart shows the frequency of each trip category recorded in the Uber dataset.\n",
    "\n",
    "#### Observations:\n",
    "- **Business trips dominate the dataset**, accounting for **399 out of 412 trips** (~96.8%).\n",
    "- **Personal trips are significantly fewer**, with only **13 trips** (~3.2%).\n",
    "\n",
    "### Key Insights:\n",
    "- The data is highly **imbalanced** toward business-related rides.\n",
    "- This suggests the dataset may represent **corporate or professional Uber usage**, possibly tied to employee travel.\n",
    "- For modeling or analytics (like classification), **category imbalance** should be considered (e.g., use stratified sampling or resampling techniques)."
   ]
  },
  {
   "cell_type": "code",
   "execution_count": 95,
   "metadata": {},
   "outputs": [
    {
     "data": {
      "image/png": "[encoded data removed]",
      "text/plain": [
       "<Figure size 1200x600 with 1 Axes>"
      ]
     },
     "metadata": {},
     "output_type": "display_data"
    }
   ],
   "source": [
    "# Count the occurrences of each purpose\n",
    "purpose_counts = uber['PURPOSE'].value_counts()\n",
    "\n",
    "# Create a bar plot\n",
    "plt.figure(figsize=(12, 6))\n",
    "plt.bar(purpose_counts.index, purpose_counts.values, color='skyblue')\n",
    "\n",
    "# Set labels and title\n",
    "plt.xlabel('Purpose')\n",
    "plt.ylabel('Number of Trips')\n",
    "plt.title('Distribution of Trip Purposes')\n",
    "\n",
    "# Rotate x-axis labels for better readability\n",
    "plt.xticks(rotation=45, ha='right')\n",
    "\n",
    "# Add count labels on top of bars\n",
    "for i, value in enumerate(purpose_counts.values):\n",
    "    plt.text(i, value + 1, str(value), ha='center', fontsize=8)\n",
    "\n",
    "plt.tight_layout()\n",
    "plt.show()"
   ]
  },
  {
   "cell_type": "code",
   "execution_count": 96,
   "metadata": {},
   "outputs": [
    {
     "data": {
      "image/png": "[encoded data removed]",
      "text/plain": [
       "<Figure size 1400x700 with 1 Axes>"
      ]
     },
     "metadata": {},
     "output_type": "display_data"
    }
   ],
   "source": [
    "# Set figure size\n",
    "plt.figure(figsize=(14, 7))\n",
    "\n",
    "# Create the grouped bar plot\n",
    "plot = sns.countplot(x='PURPOSE', hue='CATEGORY', data=uber,\n",
    "                     order=uber['PURPOSE'].value_counts().index,\n",
    "                     palette='Set2')\n",
    "\n",
    "# Rotate x-axis labels\n",
    "plt.xticks(rotation=90)\n",
    "\n",
    "# Titles and axis labels\n",
    "plt.title('Distribution of Trip Purposes by Category')\n",
    "plt.xlabel('Purpose')\n",
    "plt.ylabel('Number of Trips')\n",
    "\n",
    "# Add count labels on top of each bar\n",
    "for p in plot.patches:\n",
    "    height = p.get_height()\n",
    "    if height > 0:\n",
    "        plot.annotate(f'{int(height)}',\n",
    "                      (p.get_x() + p.get_width() / 2., height),\n",
    "                      ha='center', va='bottom', fontsize=8, color='black',\n",
    "                      xytext=(0, 2), textcoords='offset points')\n",
    "\n",
    "plt.tight_layout()\n",
    "plt.show()"
   ]
  },
  {
   "cell_type": "markdown",
   "metadata": {},
   "source": [
    "### Distribution of Trip Purposes by Category\n",
    "\n",
    "This bar chart displays how different trip purposes are distributed across categories — primarily **Business** and **Personal**.\n",
    "\n",
    "#### Key Observations:\n",
    "- The **most frequent purpose** is visible at the top left, with over **100 trips**, followed by other popular reasons such as:\n",
    "  - `Meeting`, `Customer Visit`, `Meal/Entertainment`, `Errand/Supplies`, and more.\n",
    "- **Bar labels** show the **exact count** for each combination of purpose and category.\n",
    "- The **dominant category** for nearly every purpose is **Business**, showing that the dataset largely represents **corporate travel behavior**.\n",
    "- **Personal category** appears in much fewer instances, limited to a few purposes (e.g., `Meal/Entertainment`, `Errand/Supplies`).\n",
    "\n",
    "#### Why this is important:\n",
    "- Helps stakeholders understand **why employees are traveling**.\n",
    "- Useful for **policy making**, **budget allocation**, or **auditing purposes**.\n",
    "- Can be used in **interactive dashboards** to filter or drill down into trip logs by purpose and category."
   ]
  },
  {
   "cell_type": "code",
   "execution_count": 97,
   "metadata": {},
   "outputs": [
    {
     "ename": "AttributeError",
     "evalue": "Can only use .dt accessor with datetimelike values",
     "output_type": "error",
     "traceback": [
      "\u001b[1;31m---------------------------------------------------------------------------\u001b[0m",
      "\u001b[1;31mAttributeError\u001b[0m                            Traceback (most recent call last)",
      "Cell \u001b[1;32mIn[97], line 5\u001b[0m\n\u001b[0;32m      1\u001b[0m \u001b[38;5;66;03m# Ensure START_DATE is datetime\u001b[39;00m\n\u001b[0;32m      2\u001b[0m \u001b[38;5;66;03m#uber['START_DATE'] = pd.to_datetime(uber['START_DATE'], errors='coerce')\u001b[39;00m\n\u001b[0;32m      3\u001b[0m \n\u001b[0;32m      4\u001b[0m \u001b[38;5;66;03m# Extract month names\u001b[39;00m\n\u001b[1;32m----> 5\u001b[0m uber[\u001b[38;5;124m'\u001b[39m\u001b[38;5;124mmonth_name\u001b[39m\u001b[38;5;124m'\u001b[39m] \u001b[38;5;241m=\u001b[39m \u001b[43muber\u001b[49m\u001b[43m[\u001b[49m\u001b[38;5;124;43m'\u001b[39;49m\u001b[38;5;124;43mstart_date\u001b[39;49m\u001b[38;5;124;43m'\u001b[39;49m\u001b[43m]\u001b[49m\u001b[38;5;241;43m.\u001b[39;49m\u001b[43mdt\u001b[49m\u001b[38;5;241m.\u001b[39mmonth_name()\n\u001b[0;32m      7\u001b[0m \u001b[38;5;66;03m# Define the correct month order\u001b[39;00m\n\u001b[0;32m      8\u001b[0m month_order \u001b[38;5;241m=\u001b[39m [\u001b[38;5;124m'\u001b[39m\u001b[38;5;124mJanuary\u001b[39m\u001b[38;5;124m'\u001b[39m, \u001b[38;5;124m'\u001b[39m\u001b[38;5;124mFebruary\u001b[39m\u001b[38;5;124m'\u001b[39m, \u001b[38;5;124m'\u001b[39m\u001b[38;5;124mMarch\u001b[39m\u001b[38;5;124m'\u001b[39m, \u001b[38;5;124m'\u001b[39m\u001b[38;5;124mApril\u001b[39m\u001b[38;5;124m'\u001b[39m, \u001b[38;5;124m'\u001b[39m\u001b[38;5;124mMay\u001b[39m\u001b[38;5;124m'\u001b[39m, \u001b[38;5;124m'\u001b[39m\u001b[38;5;124mJune\u001b[39m\u001b[38;5;124m'\u001b[39m,\n\u001b[0;32m      9\u001b[0m                \u001b[38;5;124m'\u001b[39m\u001b[38;5;124mJuly\u001b[39m\u001b[38;5;124m'\u001b[39m, \u001b[38;5;124m'\u001b[39m\u001b[38;5;124mAugust\u001b[39m\u001b[38;5;124m'\u001b[39m, \u001b[38;5;124m'\u001b[39m\u001b[38;5;124mSeptember\u001b[39m\u001b[38;5;124m'\u001b[39m, \u001b[38;5;124m'\u001b[39m\u001b[38;5;124mOctober\u001b[39m\u001b[38;5;124m'\u001b[39m, \u001b[38;5;124m'\u001b[39m\u001b[38;5;124mNovember\u001b[39m\u001b[38;5;124m'\u001b[39m, \u001b[38;5;124m'\u001b[39m\u001b[38;5;124mDecember\u001b[39m\u001b[38;5;124m'\u001b[39m]\n",
      "File \u001b[1;32m~\\AppData\\Roaming\\Python\\Python312\\site-packages\\pandas\\core\\generic.py:6299\u001b[0m, in \u001b[0;36mNDFrame.__getattr__\u001b[1;34m(self, name)\u001b[0m\n\u001b[0;32m   6292\u001b[0m \u001b[38;5;28;01mif\u001b[39;00m (\n\u001b[0;32m   6293\u001b[0m     name \u001b[38;5;129;01mnot\u001b[39;00m \u001b[38;5;129;01min\u001b[39;00m \u001b[38;5;28mself\u001b[39m\u001b[38;5;241m.\u001b[39m_internal_names_set\n\u001b[0;32m   6294\u001b[0m     \u001b[38;5;129;01mand\u001b[39;00m name \u001b[38;5;129;01mnot\u001b[39;00m \u001b[38;5;129;01min\u001b[39;00m \u001b[38;5;28mself\u001b[39m\u001b[38;5;241m.\u001b[39m_metadata\n\u001b[0;32m   6295\u001b[0m     \u001b[38;5;129;01mand\u001b[39;00m name \u001b[38;5;129;01mnot\u001b[39;00m \u001b[38;5;129;01min\u001b[39;00m \u001b[38;5;28mself\u001b[39m\u001b[38;5;241m.\u001b[39m_accessors\n\u001b[0;32m   6296\u001b[0m     \u001b[38;5;129;01mand\u001b[39;00m \u001b[38;5;28mself\u001b[39m\u001b[38;5;241m.\u001b[39m_info_axis\u001b[38;5;241m.\u001b[39m_can_hold_identifiers_and_holds_name(name)\n\u001b[0;32m   6297\u001b[0m ):\n\u001b[0;32m   6298\u001b[0m     \u001b[38;5;28;01mreturn\u001b[39;00m \u001b[38;5;28mself\u001b[39m[name]\n\u001b[1;32m-> 6299\u001b[0m \u001b[38;5;28;01mreturn\u001b[39;00m \u001b[38;5;28;43mobject\u001b[39;49m\u001b[38;5;241;43m.\u001b[39;49m\u001b[38;5;21;43m__getattribute__\u001b[39;49m\u001b[43m(\u001b[49m\u001b[38;5;28;43mself\u001b[39;49m\u001b[43m,\u001b[49m\u001b[43m \u001b[49m\u001b[43mname\u001b[49m\u001b[43m)\u001b[49m\n",
      "File \u001b[1;32m~\\AppData\\Roaming\\Python\\Python312\\site-packages\\pandas\\core\\accessor.py:224\u001b[0m, in \u001b[0;36mCachedAccessor.__get__\u001b[1;34m(self, obj, cls)\u001b[0m\n\u001b[0;32m    221\u001b[0m \u001b[38;5;28;01mif\u001b[39;00m obj \u001b[38;5;129;01mis\u001b[39;00m \u001b[38;5;28;01mNone\u001b[39;00m:\n\u001b[0;32m    222\u001b[0m     \u001b[38;5;66;03m# we're accessing the attribute of the class, i.e., Dataset.geo\u001b[39;00m\n\u001b[0;32m    223\u001b[0m     \u001b[38;5;28;01mreturn\u001b[39;00m \u001b[38;5;28mself\u001b[39m\u001b[38;5;241m.\u001b[39m_accessor\n\u001b[1;32m--> 224\u001b[0m accessor_obj \u001b[38;5;241m=\u001b[39m \u001b[38;5;28;43mself\u001b[39;49m\u001b[38;5;241;43m.\u001b[39;49m\u001b[43m_accessor\u001b[49m\u001b[43m(\u001b[49m\u001b[43mobj\u001b[49m\u001b[43m)\u001b[49m\n\u001b[0;32m    225\u001b[0m \u001b[38;5;66;03m# Replace the property with the accessor object. Inspired by:\u001b[39;00m\n\u001b[0;32m    226\u001b[0m \u001b[38;5;66;03m# https://www.pydanny.com/cached-property.html\u001b[39;00m\n\u001b[0;32m    227\u001b[0m \u001b[38;5;66;03m# We need to use object.__setattr__ because we overwrite __setattr__ on\u001b[39;00m\n\u001b[0;32m    228\u001b[0m \u001b[38;5;66;03m# NDFrame\u001b[39;00m\n\u001b[0;32m    229\u001b[0m \u001b[38;5;28mobject\u001b[39m\u001b[38;5;241m.\u001b[39m\u001b[38;5;21m__setattr__\u001b[39m(obj, \u001b[38;5;28mself\u001b[39m\u001b[38;5;241m.\u001b[39m_name, accessor_obj)\n",
      "File \u001b[1;32m~\\AppData\\Roaming\\Python\\Python312\\site-packages\\pandas\\core\\indexes\\accessors.py:643\u001b[0m, in \u001b[0;36mCombinedDatetimelikeProperties.__new__\u001b[1;34m(cls, data)\u001b[0m\n\u001b[0;32m    640\u001b[0m \u001b[38;5;28;01melif\u001b[39;00m \u001b[38;5;28misinstance\u001b[39m(data\u001b[38;5;241m.\u001b[39mdtype, PeriodDtype):\n\u001b[0;32m    641\u001b[0m     \u001b[38;5;28;01mreturn\u001b[39;00m PeriodProperties(data, orig)\n\u001b[1;32m--> 643\u001b[0m \u001b[38;5;28;01mraise\u001b[39;00m \u001b[38;5;167;01mAttributeError\u001b[39;00m(\u001b[38;5;124m\"\u001b[39m\u001b[38;5;124mCan only use .dt accessor with datetimelike values\u001b[39m\u001b[38;5;124m\"\u001b[39m)\n",
      "\u001b[1;31mAttributeError\u001b[0m: Can only use .dt accessor with datetimelike values"
     ]
    }
   ],
   "source": [
    "# Ensure START_DATE is datetime\n",
    "#uber['START_DATE'] = pd.to_datetime(uber['START_DATE'], errors='coerce')\n",
    "\n",
    "# Extract month names\n",
    "uber['month_name'] = uber['start_date'].dt.month_name()\n",
    "\n",
    "# Define the correct month order\n",
    "month_order = ['January', 'February', 'March', 'April', 'May', 'June',\n",
    "               'July', 'August', 'September', 'October', 'November', 'December']\n",
    "\n",
    "# Count the trips by month and order them correctly\n",
    "trip_trend = uber['month_name'].value_counts().reindex(month_order)\n",
    "\n",
    "# Create the bar chart and capture the bar container\n",
    "plt.figure(figsize=(14, 6))\n",
    "bars = plt.bar(trip_trend.index, trip_trend.values, color='cornflowerblue')\n",
    "\n",
    "# Add value labels on top of each bar\n",
    "for bar in bars:\n",
    "    height = bar.get_height()\n",
    "    if not pd.isna(height):  # Avoid annotating NaN bars\n",
    "        plt.text(bar.get_x() + bar.get_width() / 2, height + 1,\n",
    "                 str(int(height)), ha='center', va='bottom', fontsize=10)\n",
    "\n",
    "# Add titles and labels\n",
    "plt.title('Trips per Month')\n",
    "plt.xlabel('Month')\n",
    "plt.ylabel('Number of Trips')\n",
    "plt.xticks(rotation=45)\n",
    "plt.tight_layout()\n",
    "plt.show()"
   ]
  },
  {
   "cell_type": "markdown",
   "metadata": {},
   "source": [
    "### Monthly Trip Distribution\n",
    "\n",
    "This chart shows how many trips occurred in each month, using January through December as the order.\n",
    "\n",
    "#### Insights:\n",
    "- The monthly distribution helps identify **seasonal travel patterns**.\n",
    "- Peaks in certain months could indicate **business cycles**, **holiday seasons**, or **special events**.\n",
    "- For instance, if a sharp rise is seen in months like **March or September**, it may suggest high travel demand during fiscal or academic periods."
   ]
  },
  {
   "cell_type": "code",
   "execution_count": null,
   "metadata": {},
   "outputs": [],
   "source": [
    "# Make sure START_DATE is datetime\n",
    "#uber['START_DATE'] = pd.to_datetime(uber['START_DATE'], errors='coerce')\n",
    "\n",
    "# Create a column for day name\n",
    "uber['day_of_week'] = uber['start_date'].dt.day_name()\n",
    "\n",
    "# Set figure size\n",
    "plt.figure(figsize=(10, 6))\n",
    "\n",
    "# Create countplot with specified order\n",
    "plot = sns.countplot(\n",
    "    x='day_of_week',\n",
    "    data=uber,\n",
    "    order=['Monday', 'Tuesday', 'Wednesday', 'Thursday', 'Friday', 'Saturday', 'Sunday'],\n",
    "    palette='Pastel1'\n",
    ")\n",
    "\n",
    "# Add inner value labels\n",
    "for bar in plot.patches:\n",
    "    height = bar.get_height()\n",
    "    plot.annotate(f'{int(height)}',\n",
    "                  (bar.get_x() + bar.get_width() / 2, height + 1),\n",
    "                  ha='center', va='bottom', fontsize=10)\n",
    "\n",
    "# Add chart labels\n",
    "plt.title('Trips by Day of the Week')\n",
    "plt.xlabel('Day')\n",
    "plt.ylabel('Number of Trips')\n",
    "plt.tight_layout()\n",
    "plt.show()"
   ]
  },
  {
   "cell_type": "markdown",
   "metadata": {},
   "source": [
    "### Weekly Trip Patterns\n",
    "\n",
    "This chart visualizes the number of trips taken on each day of the week.\n",
    "\n",
    "#### Insights:\n",
    "- **Monday to Friday** generally see a higher number of trips, indicating strong **weekday (work-related)** usage.\n",
    "- Fewer trips on **weekends** suggest limited personal use or fewer business needs.\n",
    "- Such trends can help optimize **driver scheduling**, **fleet management**, or **promotional planning**.\n",
    "\n",
    "This view is valuable for understanding **weekly demand cycles**."
   ]
  },
  {
   "cell_type": "code",
   "execution_count": null,
   "metadata": {},
   "outputs": [],
   "source": [
    "#Category-wise Usage by Day of the Week\n",
    "\n",
    "# Create day_of_week column\n",
    "uber['day_of_week'] = uber['start_date'].dt.day_name()\n",
    "\n",
    "plt.figure(figsize=(10, 6))\n",
    "sns.countplot(data=uber, x='day_of_week', hue='CATEGORY', order=[\n",
    "    'Monday', 'Tuesday', 'Wednesday', 'Thursday', 'Friday', 'Saturday', 'Sunday'\n",
    "])\n",
    "plt.title('Category-wise Usage by Day of the Week')\n",
    "plt.xlabel('Day of Week')\n",
    "plt.ylabel('Number of Trips')\n",
    "plt.xticks(rotation=30)\n",
    "plt.tight_layout()\n",
    "plt.show()"
   ]
  },
  {
   "cell_type": "markdown",
   "metadata": {},
   "source": [
    "### Category-wise Usage by Day\n",
    "\n",
    "This plot compares the number of **Business** vs **Personal** trips for each weekday.\n",
    "\n",
    "#### Insights:\n",
    "- Business trips dominate weekdays (Mon–Fri), especially on **Tuesdays and Thursdays**.\n",
    "- Personal trips are more frequent on **weekends**, particularly **Saturdays**.\n",
    "- This confirms expected behavior patterns and helps with **weekday resource allocation** and **weekend support planning**."
   ]
  },
  {
   "cell_type": "code",
   "execution_count": null,
   "metadata": {},
   "outputs": [],
   "source": [
    "#import matplotlib.pyplot as plt\n",
    "\n",
    "# Group by PURPOSE and compute mean of MILES\n",
    "avg_miles = uber.groupby('PURPOSE')['MILES'].mean().sort_values(ascending=False)\n",
    "\n",
    "# Create bar plot\n",
    "plt.figure(figsize=(12, 6))\n",
    "bars = plt.bar(avg_miles.index, avg_miles.values, color='skyblue')\n",
    "\n",
    "# Add value labels on top of bars\n",
    "for bar in bars:\n",
    "    height = bar.get_height()\n",
    "    plt.text(bar.get_x() + bar.get_width() / 2, height + 0.1,\n",
    "             f'{height:.1f}', ha='center', va='bottom', fontsize=10)\n",
    "\n",
    "# Chart labels and title\n",
    "plt.title('Average Miles per Trip by Purpose')\n",
    "plt.ylabel('Average Miles')\n",
    "plt.xlabel('Purpose')\n",
    "plt.xticks(rotation=45, ha='right')\n",
    "plt.tight_layout()\n",
    "plt.show()"
   ]
  },
  {
   "cell_type": "markdown",
   "metadata": {},
   "source": [
    "### Average Miles per Trip by Purpose\n",
    "\n",
    "This bar chart illustrates the average distance (in miles) traveled for each trip purpose.\n",
    "\n",
    "#### Insights:\n",
    "- Purposes like **Customer Visit**, **Meeting**, or **Errand/Supplies** may show **longer average trip distances**.\n",
    "- Internal purposes like **Office Commute** or **Training** could show shorter distances.\n",
    "- Helps organizations monitor which trip types are **costlier** in terms of travel distance and possibly prioritize **remote alternatives**.\n",
    "\n",
    "This metric can support **budget allocation** and **policy updates**."
   ]
  },
  {
   "cell_type": "code",
   "execution_count": null,
   "metadata": {},
   "outputs": [],
   "source": [
    "#import matplotlib.pyplot as plt\n",
    "\n",
    "# Count trip categories\n",
    "category_counts = uber['CATEGORY'].value_counts()\n",
    "\n",
    "# Define labels\n",
    "labels = category_counts.index\n",
    "sizes = category_counts.values\n",
    "\n",
    "# Custom function to show count and percent\n",
    "def make_autopct(values):\n",
    "    def my_autopct(pct):\n",
    "        total = sum(values)\n",
    "        count = int(round(pct * total / 100.0))\n",
    "        return f'{pct:.1f}%\\n({count})'\n",
    "    return my_autopct\n",
    "\n",
    "# Plot\n",
    "plt.figure(figsize=(6, 6))\n",
    "plt.pie(sizes,\n",
    "        labels=labels,\n",
    "        autopct=make_autopct(sizes),\n",
    "        startangle=140,\n",
    "        colors=['#66b3ff', '#ff9999'],\n",
    "        textprops={'fontsize': 10})\n",
    "\n",
    "plt.title('Trip Category Proportion')\n",
    "plt.axis('equal')  # Ensures pie is a circle\n",
    "plt.tight_layout()\n",
    "plt.show()"
   ]
  },
  {
   "cell_type": "markdown",
   "metadata": {},
   "source": [
    "### Trip Category Proportion\n",
    "\n",
    "This pie chart shows the relative share of trips categorized as **Business** or **Personal**.\n",
    "\n",
    "#### Insights:\n",
    "- The majority of trips belong to the **Business** category, reaffirming that the data is largely corporate in nature.\n",
    "- A smaller share of **Personal** trips may indicate occasional personal usage or relaxed policies.\n",
    "- Useful for **compliance tracking**, **expense reporting**, and **policy enforcement**.\n",
    "\n",
    "This view highlights how organizational resources are being used."
   ]
  },
  {
   "cell_type": "code",
   "execution_count": null,
   "metadata": {},
   "outputs": [],
   "source": [
    "# Extract hour from START_DATE\n",
    "uber['start_hour'] = uber['start_date'].dt.hour\n",
    "\n",
    "# Create the plot\n",
    "plt.figure(figsize=(12, 6))\n",
    "plot = sns.histplot(uber['start_hour'], bins=24, kde=False, color='orange')\n",
    "\n",
    "# Add value labels on top of each bar\n",
    "for bar in plot.patches:\n",
    "    height = bar.get_height()\n",
    "    if height > 0:\n",
    "        plot.annotate(f'{int(height)}',\n",
    "                      (bar.get_x() + bar.get_width() / 2, height + 1),\n",
    "                      ha='center', va='bottom', fontsize=9)\n",
    "\n",
    "# Add titles and labels\n",
    "plt.title('Distribution of Trips by Hour')\n",
    "plt.xlabel('Hour of Day')\n",
    "plt.ylabel('Number of Trips')\n",
    "plt.xticks(range(0, 24))\n",
    "plt.tight_layout()\n",
    "plt.show()"
   ]
  },
  {
   "cell_type": "markdown",
   "metadata": {},
   "source": [
    "### Trip Distribution by Hour of Day\n",
    "\n",
    "This histogram represents the number of trips that start during each hour of the day (0–23).\n",
    "\n",
    "#### Insights:\n",
    "- High trip volume during **commute hours (e.g., 8–10 AM and 4–6 PM)** suggests employee travel patterns.\n",
    "- Lower trip counts during late night hours show limited night-time activity.\n",
    "- Ideal for optimizing **fleet availability** and **driver scheduling** based on hourly demand.\n",
    "\n",
    "This chart is crucial for **temporal resource allocation**."
   ]
  },
  {
   "cell_type": "code",
   "execution_count": null,
   "metadata": {},
   "outputs": [],
   "source": [
    "#Top 5 Trip Purposes\n",
    "\n",
    "# Count top 5 purposes\n",
    "top_5_purposes = uber['PURPOSE'].value_counts().head(5)\n",
    "\n",
    "# Plot\n",
    "plt.figure(figsize=(8, 5))\n",
    "bars = plt.bar(top_5_purposes.index, top_5_purposes.values, color='skyblue')\n",
    "\n",
    "# Add inner values\n",
    "for bar in bars:\n",
    "    height = bar.get_height()\n",
    "    plt.text(bar.get_x() + bar.get_width()/2, height + 1, str(height),\n",
    "             ha='center', va='bottom', fontsize=10)\n",
    "\n",
    "plt.title('Top 5 Most Common Trip Purposes')\n",
    "plt.xlabel('Purpose')\n",
    "plt.ylabel('Number of Trips')\n",
    "plt.xticks(rotation=30)\n",
    "plt.tight_layout()\n",
    "plt.show()"
   ]
  },
  {
   "cell_type": "markdown",
   "metadata": {},
   "source": [
    "### Top 5 Trip Purposes\n",
    "\n",
    "This bar chart displays the five most common reasons for Uber trips.\n",
    "\n",
    "#### Insights:\n",
    "- **Customer Visit**, **Meeting**, and **Errands/Supplies** are among the most frequent purposes.\n",
    "- These insights help organizations understand **business needs** and **optimize travel budgets**.\n",
    "\n",
    "Frequent non-essential purposes may suggest areas for travel policy improvement."
   ]
  },
  {
   "cell_type": "markdown",
   "metadata": {},
   "source": [
    "## Conclusion\n",
    "\n",
    "The Uber Rides data analysis successfully explored various aspects of ride behavior and patterns. Key findings include:\n",
    "\n",
    "- **Trip Volume Trends:**\n",
    "  - The majority of rides occurred during the **early hours of the day**, indicating business commuting and travel.\n",
    "  - **January and February** had higher trip volumes, possibly due to post-holiday and early fiscal-year travel activities.\n",
    "\n",
    "- **Trip Category Insights:**\n",
    "  - **Business trips** dominated the dataset, accounting for the majority of rides.\n",
    "  - Personal trips were more common during weekends, especially on **Saturdays and Sundays**.\n",
    "\n",
    "- **Trip Purpose Patterns:**\n",
    "  - Most frequent trip purposes include **Customer Visits**, **Meetings**, and **Errands/Supplies** for Business category.\n",
    "  - **Meals/Entertainment** and **Commutes** were more prominent in Personal rides.\n",
    "\n",
    "- **Trip Duration and Distance:**\n",
    "  - On average, Business trips had **longer distances** and **lower speeds**, possibly due to inner-city travel or traffic delays.\n",
    "  - Outliers in trip distance, duration, and speed were identified and removed using **IQR filtering** to improve analysis reliability.\n",
    "\n",
    "- **Category and Purpose Relationship:**\n",
    "  - Purpose distribution varies strongly with the trip category, as seen in side-by-side and stacked visualizations.\n",
    "  - This insight can help organizations optimize ride expenses and policies.\n",
    "\n",
    "- **Temporal Trends:**\n",
    "  - Most trips were taken on **weekdays**, especially **Tuesdays and Thursdays**.\n",
    "  - There is a clear pattern between **day of week** and trip type, which can support operational scheduling."
   ]
  },
  {
   "cell_type": "markdown",
   "metadata": {},
   "source": [
    "## Future Recommendations\n",
    "\n",
    "To expand and strengthen the Uber ride analytics, the following recommendations can be considered:\n",
    "\n",
    "1. **Incorporate Geospatial Data:**\n",
    "   - Including pickup/dropoff locations (latitude & longitude) would enable map-based visualizations and route optimization.\n",
    "   - Heatmaps and cluster analysis can identify high-traffic zones.\n",
    "\n",
    "2. **Cost Analysis:**\n",
    "   - If fare data is available, analyze average trip costs by purpose, category, and distance.\n",
    "   - Helps in **budget forecasting** and **cost-saving initiatives**.\n",
    "\n",
    "3. **Policy Optimization:**\n",
    "   - Review overused personal trip purposes during workdays to enforce **travel policy compliance**.\n",
    "   - Consider using frequent business-purpose trip patterns to **optimize vendor agreements** or **travel modes**.\n",
    "\n",
    "4. **Time Series Forecasting:**\n",
    "   - Implement time-series models (e.g., ARIMA, Prophet) to forecast future trip demands based on historical trends.\n",
    "\n",
    "5. **Dashboard Deployment:**\n",
    "   - Transform the Jupyter notebook into an interactive **Streamlit or Power BI dashboard** for real-time usage and reporting.\n",
    "\n",
    "6. **Add Categorical Enrichment:**\n",
    "   - Add user-related metadata (e.g., department, role, region) to drill deeper into **who** is taking trips and **why**.\n",
    "\n",
    "7. **Anomaly Detection:**\n",
    "   - Flag trips with abnormal speeds, durations, or roundtrips with identical start/stop points for further review.\n",
    "\n",
    "By building on this foundation, organizations can move from simple ride logging to **data-driven mobility management**."
   ]
  },
  {
   "cell_type": "code",
   "execution_count": 100,
   "metadata": {},
   "outputs": [
    {
     "name": "stdout",
     "output_type": "stream",
     "text": [
      "Cleaned dataset saved as 'NewUberCleanData.csv'\n"
     ]
    }
   ],
   "source": [
    "uber.to_csv('NewUberCleanData.csv', index=False)\n",
    "print(\"Cleaned dataset saved as 'NewUberCleanData.csv'\")"
   ]
  },
  {
   "cell_type": "code",
   "execution_count": 101,
   "metadata": {},
   "outputs": [
    {
     "name": "stdout",
     "output_type": "stream",
     "text": [
      "C:\\Users\\91983\\OneDrive\\Desktop\\UBER DA 2\n"
     ]
    }
   ],
   "source": [
    "import os\n",
    "print(os.getcwd())"
   ]
  },
  {
   "cell_type": "code",
   "execution_count": null,
   "metadata": {},
   "outputs": [],
   "source": []
  }
 ],
 "metadata": {
  "kernelspec": {
   "display_name": "Python 3 (ipykernel)",
   "language": "python",
   "name": "python3"
  },
  "language_info": {
   "codemirror_mode": {
    "name": "ipython",
    "version": 3
   },
   "file_extension": ".py",
   "mimetype": "text/x-python",
   "name": "python",
   "nbconvert_exporter": "python",
   "pygments_lexer": "ipython3",
   "version": "3.12.7"
  }
 },
 "nbformat": 4,
 "nbformat_minor": 4
}
